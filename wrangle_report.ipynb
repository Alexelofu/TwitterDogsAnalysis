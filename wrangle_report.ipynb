{
 "cells": [
  {
   "cell_type": "markdown",
   "id": "8c1102ef",
   "metadata": {},
   "source": [
    "# REPORT"
   ]
  },
  {
   "cell_type": "markdown",
   "id": "8a17d959",
   "metadata": {},
   "source": [
    "### DATA WRANGLING OF THE WeRateDogs TWEET DATASET"
   ]
  },
  {
   "cell_type": "markdown",
   "id": "25171797",
   "metadata": {},
   "source": [
    "    The project was carried out in different stages as given below:\n",
    "\n",
    "    1. Data Gathering.\n",
    "    2. Data Accessment.\n",
    "    3. Data Cleaning.\n",
    "    4. Data Storage.\n",
    "    5. Data Analysis and Visualization."
   ]
  },
  {
   "cell_type": "markdown",
   "id": "2e2395dd",
   "metadata": {},
   "source": [
    "    The data used in this project was gotten from three diferent sources. The first (twitter-arc) was downloaded directly as a csv file. The second was downloaded using the request library(tweet_pred) and the third involved using the tweepy API to query twitter for the data(twitter_api). The datasets were downloaded, read into different dataframes which allowed  for assessment.\n",
    "    The data was assessed using pandas and its methods, excel was also used. "
   ]
  },
  {
   "cell_type": "markdown",
   "id": "9bb3e4b9",
   "metadata": {},
   "source": [
    "### Looking Into Data With Excel and Pandas\n",
    "\n",
    "    Using excel, inconsistent rating scores were being used for both the denominator and numerator, with the prescribe rating being over 10. \n",
    "    Peculiar dog names were also observed e.g; 'None', 'a', 'an' etc.\n",
    "\n",
    "    Using pandas, we observed incomplete data collected and inappropriate data types given to certain columns amongst others.\n",
    "\n",
    "### Issues Observed\n",
    "    Given below are the observed issues we observed while assesing the data from the three datasets;\n",
    "\n",
    "#### Quality (The Validity,Completeness, Consistency, Accuracy Issues)\n",
    "\n",
    "    1. \"twitter_arc\" has 2356 rows while the \"twitter_pred\" has only 2075 \n",
    "    rows, which can be attributed to retweets and missing photos.\n",
    "    2. Not needed retweet and in_reply columns(user_id, \n",
    "    retweeted_status_id, in_reply_to_user_id).\n",
    "    3. Unusual dog names, such as; 'a', 'an','all', etc., we also had \n",
    "    missing names.\n",
    "    4. Wrong numerator and denominator numbers/values.\n",
    "    5. The source data is not clear as we have html tags surrounding the \n",
    "    needed info.\n",
    "    6. Timestamp is stored in a wrong data types and has additional info \n",
    "    that is not needed.\n",
    "    7. tweet_id is stored in a wrong data type.\n",
    "    8. Incomplete data in other rows, with a bulk of some having 'None' as      data.\n",
    "\n",
    "#### Tidiness (The structural issues)\n",
    "\n",
    "    1. All three dataframes, should be together to form a complete \n",
    "    dataframe.\n",
    "    2. The doggo, floffer, pupper, and puppo columns in the \n",
    "    \"twitter_arc\" should be together in one column."
   ]
  },
  {
   "cell_type": "markdown",
   "id": "b7576b13",
   "metadata": {},
   "source": [
    " "
   ]
  },
  {
   "cell_type": "markdown",
   "id": "956d74d8",
   "metadata": {},
   "source": [
    "    The data was cleaned using python in a jupyter notebook. Major cleaning operations included merging of the three(3) datasets to get a comprehensive single data sheet(arc_api). Notable cleaning operations include;\n",
    "    - Removing of redundant columns.\n",
    "    - Getting equal amount of data for the remaining columns. This involved filling empty rows.\n",
    "    - Merging the four different columns that signified growth stage of the dogs into a single column.\n",
    "    - Source information was also cleaned to get the needed info.\n",
    "    - Columns with wrong data types were also worked on.\n",
    "\n",
    "        Upon the completion of the cleaning operation, the data was stored with the prescribed name and format(twitter_archive_master.csv). \n",
    "        Further operations like visualization and analysis were also carried out using the cleaned data.\n",
    "\n"
   ]
  },
  {
   "cell_type": "markdown",
   "id": "d80c9172",
   "metadata": {},
   "source": []
  },
  {
   "cell_type": "code",
   "execution_count": null,
   "id": "ab332671",
   "metadata": {},
   "outputs": [],
   "source": []
  },
  {
   "cell_type": "code",
   "execution_count": null,
   "id": "b3e6e2d9",
   "metadata": {},
   "outputs": [],
   "source": []
  }
 ],
 "metadata": {
  "kernelspec": {
   "display_name": "Python 3 (ipykernel)",
   "language": "python",
   "name": "python3"
  },
  "language_info": {
   "codemirror_mode": {
    "name": "ipython",
    "version": 3
   },
   "file_extension": ".py",
   "mimetype": "text/x-python",
   "name": "python",
   "nbconvert_exporter": "python",
   "pygments_lexer": "ipython3",
   "version": "3.10.2"
  }
 },
 "nbformat": 4,
 "nbformat_minor": 5
}

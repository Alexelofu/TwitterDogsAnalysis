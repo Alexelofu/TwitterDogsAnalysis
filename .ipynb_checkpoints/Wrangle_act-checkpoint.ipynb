{
 "cells": [
  {
   "cell_type": "markdown",
   "id": "26d167cf",
   "metadata": {},
   "source": [
    "# Project: Wrangling and Analyze Data"
   ]
  },
  {
   "cell_type": "markdown",
   "id": "8e951dbe",
   "metadata": {},
   "source": [
    "This notebook is used for my second Udacity project that examines data wrangling and analysis. In this project, we wrangle data for the WeRateDogs. The project following the defined structure is grouped into five sections:\n",
    "- Data Gathering.\n",
    "- Data Accessment.\n",
    "- Data Cleaning.\n",
    "- Data Storage.\n",
    "- Data Analysis and Visualization."
   ]
  },
  {
   "cell_type": "markdown",
   "id": "4bf40770",
   "metadata": {},
   "source": [
    "## Data Gathering\n",
    "Here we get all the data needed by downloading using the request library, querying the twitter api using tweepy and lastly reading it into the dataframes"
   ]
  },
  {
   "cell_type": "code",
   "execution_count": 1,
   "id": "0944af50",
   "metadata": {},
   "outputs": [],
   "source": [
    "#importing the needed libraries\n",
    "import pandas as pd\n",
    "import numpy as np\n",
    "import requests\n",
    "import matplotlib.image as mpimg\n",
    "import csv\n",
    "import io\n",
    "import matplotlib.pyplot as plt\n",
    "import json\n",
    "from pprint import pprint\n",
    "import seaborn as sns\n",
    "\n",
    "# Increase number of visible columns in a pandas DataFrame to see all the columns in the newly created master_df\n",
    "pd.set_option(\"display.max_columns\",25)\n",
    "\n",
    "# Set style of plots with seaborn\n",
    "sns.set(style=\"darkgrid\",font_scale=1.5)\n",
    "\n",
    "%matplotlib inline"
   ]
  },
  {
   "cell_type": "code",
   "execution_count": 2,
   "id": "d1acc2fe",
   "metadata": {},
   "outputs": [],
   "source": [
    "#reading in the twitter archive file.\n",
    "\n",
    "twitter_arc = pd.read_csv('twitter-archive-enhanced.csv')"
   ]
  },
  {
   "cell_type": "code",
   "execution_count": 3,
   "id": "3c28916b",
   "metadata": {},
   "outputs": [
    {
     "data": {
      "text/plain": [
       "(2075, 12)"
      ]
     },
     "execution_count": 3,
     "metadata": {},
     "output_type": "execute_result"
    }
   ],
   "source": [
    "#downloading and reading in the image-predictions.tsv file as twitter_pred using the request library.\n",
    "\n",
    "request = requests.get('https://d17h27t6h515a5.cloudfront.net/topher/2017/August/599fd2ad_image-predictions/image-predictions.tsv').content\n",
    "twitter_pred = pd.read_csv(io.StringIO(request.decode('utf-8')), sep = '\\t')\n",
    "twitter_pred.to_csv('twitter_pred.tsv')\n",
    "twitter_pred.to_csv('twitter_pred.tsv', sep='\\t', index = False) # save DF to a file \n",
    "twitter_pred.shape"
   ]
  },
  {
   "cell_type": "code",
   "execution_count": 4,
   "id": "259422e5",
   "metadata": {},
   "outputs": [
    {
     "name": "stderr",
     "output_type": "stream",
     "text": [
      "Rate limit reached. Sleeping for: 284\n",
      "Rate limit reached. Sleeping for: 125\n"
     ]
    }
   ],
   "source": [
    "# Getting each tweet for the provided tweets in the provided twitter archive file by querying the twitter api.\n",
    "\n",
    "#import the need libraby tweepy needed for the query\n",
    "import tweepy\n",
    "\n",
    "ConsumerKey = xxxxxxxxxxxx\n",
    "ConsumerSecret = xxxxxxxxxxxx\n",
    "AccessToken = xxxxxxxxxxxx\n",
    "AccessTokenSecret = xxxxxxxxxxxx\n",
    "\n",
    "# Running through authentication\n",
    "\n",
    "auths = tweepy.OAuthHandler(ConsumerKey, ConsumerSecret)\n",
    "auths.set_access_token(AccessToken, AccessTokenSecret)\n",
    "api = tweepy.API(auths, wait_on_rate_limit=True)\n",
    "\n",
    "# Getting all of the tweet data for each tweet id now\n",
    "tweet_api = pd.read_csv('twitter-archive-enhanced.csv').tweet_id.astype(str).tolist()\n",
    "with open('tweet_json.txt', 'w') as tweet_file:\n",
    "    for tweet_id in tweet_api:\n",
    "        try:\n",
    "            tweet_datas = api.get_status(tweet_id, tweet_mode='extended')\n",
    "        except Exception as e:\n",
    "            pass\n",
    "        else:\n",
    "            tweet_file.write(json.dumps(tweet_datas._json) + '\\n')\n",
    "            "
   ]
  },
  {
   "cell_type": "code",
   "execution_count": 5,
   "id": "fb010b3d",
   "metadata": {},
   "outputs": [
    {
     "data": {
      "text/plain": [
       "{'created_at': 'Tue Aug 01 16:23:56 +0000 2017',\n",
       " 'id': 892420643555336193,\n",
       " 'id_str': '892420643555336193',\n",
       " 'full_text': \"This is Phineas. He's a mystical boy. Only ever appears in the hole of a donut. 13/10 https://t.co/MgUWQ76dJU\",\n",
       " 'truncated': False,\n",
       " 'display_text_range': [0, 85],\n",
       " 'entities': {'hashtags': [],\n",
       "  'symbols': [],\n",
       "  'user_mentions': [],\n",
       "  'urls': [],\n",
       "  'media': [{'id': 892420639486877696,\n",
       "    'id_str': '892420639486877696',\n",
       "    'indices': [86, 109],\n",
       "    'media_url': 'http://pbs.twimg.com/media/DGKD1-bXoAAIAUK.jpg',\n",
       "    'media_url_https': 'https://pbs.twimg.com/media/DGKD1-bXoAAIAUK.jpg',\n",
       "    'url': 'https://t.co/MgUWQ76dJU',\n",
       "    'display_url': 'pic.twitter.com/MgUWQ76dJU',\n",
       "    'expanded_url': 'https://twitter.com/dog_rates/status/892420643555336193/photo/1',\n",
       "    'type': 'photo',\n",
       "    'sizes': {'thumb': {'w': 150, 'h': 150, 'resize': 'crop'},\n",
       "     'medium': {'w': 540, 'h': 528, 'resize': 'fit'},\n",
       "     'small': {'w': 540, 'h': 528, 'resize': 'fit'},\n",
       "     'large': {'w': 540, 'h': 528, 'resize': 'fit'}}}]},\n",
       " 'extended_entities': {'media': [{'id': 892420639486877696,\n",
       "    'id_str': '892420639486877696',\n",
       "    'indices': [86, 109],\n",
       "    'media_url': 'http://pbs.twimg.com/media/DGKD1-bXoAAIAUK.jpg',\n",
       "    'media_url_https': 'https://pbs.twimg.com/media/DGKD1-bXoAAIAUK.jpg',\n",
       "    'url': 'https://t.co/MgUWQ76dJU',\n",
       "    'display_url': 'pic.twitter.com/MgUWQ76dJU',\n",
       "    'expanded_url': 'https://twitter.com/dog_rates/status/892420643555336193/photo/1',\n",
       "    'type': 'photo',\n",
       "    'sizes': {'thumb': {'w': 150, 'h': 150, 'resize': 'crop'},\n",
       "     'medium': {'w': 540, 'h': 528, 'resize': 'fit'},\n",
       "     'small': {'w': 540, 'h': 528, 'resize': 'fit'},\n",
       "     'large': {'w': 540, 'h': 528, 'resize': 'fit'}}}]},\n",
       " 'source': '<a href=\"http://twitter.com/download/iphone\" rel=\"nofollow\">Twitter for iPhone</a>',\n",
       " 'in_reply_to_status_id': None,\n",
       " 'in_reply_to_status_id_str': None,\n",
       " 'in_reply_to_user_id': None,\n",
       " 'in_reply_to_user_id_str': None,\n",
       " 'in_reply_to_screen_name': None,\n",
       " 'user': {'id': 4196983835,\n",
       "  'id_str': '4196983835',\n",
       "  'name': 'WeRateDogs®',\n",
       "  'screen_name': 'dog_rates',\n",
       "  'location': 'all our links ➜',\n",
       "  'description': 'Your Only Source For Professional Dog Ratings Instagram and Facebook ➜ WeRateDogs partnerships@weratedogs.com | nonprofit: @15outof10 ⠀⠀⠀⠀⠀⠀⠀⠀⠀⠀⠀⠀',\n",
       "  'url': 'https://t.co/YPc2Xq4Va2',\n",
       "  'entities': {'url': {'urls': [{'url': 'https://t.co/YPc2Xq4Va2',\n",
       "      'expanded_url': 'http://links.weratedogs.com',\n",
       "      'display_url': 'links.weratedogs.com',\n",
       "      'indices': [0, 23]}]},\n",
       "   'description': {'urls': []}},\n",
       "  'protected': False,\n",
       "  'followers_count': 9363840,\n",
       "  'friends_count': 21,\n",
       "  'listed_count': 7630,\n",
       "  'created_at': 'Sun Nov 15 21:41:29 +0000 2015',\n",
       "  'favourites_count': 147602,\n",
       "  'utc_offset': None,\n",
       "  'time_zone': None,\n",
       "  'geo_enabled': True,\n",
       "  'verified': True,\n",
       "  'statuses_count': 16219,\n",
       "  'lang': None,\n",
       "  'contributors_enabled': False,\n",
       "  'is_translator': False,\n",
       "  'is_translation_enabled': False,\n",
       "  'profile_background_color': '000000',\n",
       "  'profile_background_image_url': 'http://abs.twimg.com/images/themes/theme1/bg.png',\n",
       "  'profile_background_image_url_https': 'https://abs.twimg.com/images/themes/theme1/bg.png',\n",
       "  'profile_background_tile': False,\n",
       "  'profile_image_url': 'http://pbs.twimg.com/profile_images/1552995729014247425/TaJbIdmK_normal.jpg',\n",
       "  'profile_image_url_https': 'https://pbs.twimg.com/profile_images/1552995729014247425/TaJbIdmK_normal.jpg',\n",
       "  'profile_banner_url': 'https://pbs.twimg.com/profile_banners/4196983835/1661991479',\n",
       "  'profile_link_color': 'F5ABB5',\n",
       "  'profile_sidebar_border_color': '000000',\n",
       "  'profile_sidebar_fill_color': '000000',\n",
       "  'profile_text_color': '000000',\n",
       "  'profile_use_background_image': False,\n",
       "  'has_extended_profile': False,\n",
       "  'default_profile': False,\n",
       "  'default_profile_image': False,\n",
       "  'following': False,\n",
       "  'follow_request_sent': False,\n",
       "  'notifications': False,\n",
       "  'translator_type': 'none',\n",
       "  'withheld_in_countries': []},\n",
       " 'geo': None,\n",
       " 'coordinates': None,\n",
       " 'place': None,\n",
       " 'contributors': None,\n",
       " 'is_quote_status': False,\n",
       " 'retweet_count': 6967,\n",
       " 'favorite_count': 33683,\n",
       " 'favorited': False,\n",
       " 'retweeted': False,\n",
       " 'possibly_sensitive': False,\n",
       " 'possibly_sensitive_appealable': False,\n",
       " 'lang': 'en'}"
      ]
     },
     "execution_count": 5,
     "metadata": {},
     "output_type": "execute_result"
    }
   ],
   "source": [
    "#Creating an empty list so we can append the files we get from querying\n",
    "\n",
    "tweets = []\n",
    "for line in open('tweet_json.txt', 'r'):\n",
    "    tweets.append(json.loads(line))\n",
    "\n",
    "#print out one json object for further reference \n",
    "tweets[0] "
   ]
  },
  {
   "cell_type": "code",
   "execution_count": 6,
   "id": "92ac5cf6",
   "metadata": {},
   "outputs": [
    {
     "data": {
      "text/html": [
       "<div>\n",
       "<style scoped>\n",
       "    .dataframe tbody tr th:only-of-type {\n",
       "        vertical-align: middle;\n",
       "    }\n",
       "\n",
       "    .dataframe tbody tr th {\n",
       "        vertical-align: top;\n",
       "    }\n",
       "\n",
       "    .dataframe thead th {\n",
       "        text-align: right;\n",
       "    }\n",
       "</style>\n",
       "<table border=\"1\" class=\"dataframe\">\n",
       "  <thead>\n",
       "    <tr style=\"text-align: right;\">\n",
       "      <th></th>\n",
       "      <th>tweet_id</th>\n",
       "      <th>retweet_count</th>\n",
       "      <th>favorite_count</th>\n",
       "    </tr>\n",
       "  </thead>\n",
       "  <tbody>\n",
       "    <tr>\n",
       "      <th>0</th>\n",
       "      <td>892420643555336193</td>\n",
       "      <td>6967</td>\n",
       "      <td>33683</td>\n",
       "    </tr>\n",
       "    <tr>\n",
       "      <th>1</th>\n",
       "      <td>892177421306343426</td>\n",
       "      <td>5271</td>\n",
       "      <td>29218</td>\n",
       "    </tr>\n",
       "    <tr>\n",
       "      <th>2</th>\n",
       "      <td>891815181378084864</td>\n",
       "      <td>3464</td>\n",
       "      <td>21968</td>\n",
       "    </tr>\n",
       "    <tr>\n",
       "      <th>3</th>\n",
       "      <td>891689557279858688</td>\n",
       "      <td>7190</td>\n",
       "      <td>36774</td>\n",
       "    </tr>\n",
       "    <tr>\n",
       "      <th>4</th>\n",
       "      <td>891327558926688256</td>\n",
       "      <td>7711</td>\n",
       "      <td>35167</td>\n",
       "    </tr>\n",
       "  </tbody>\n",
       "</table>\n",
       "</div>"
      ],
      "text/plain": [
       "             tweet_id  retweet_count  favorite_count\n",
       "0  892420643555336193           6967           33683\n",
       "1  892177421306343426           5271           29218\n",
       "2  891815181378084864           3464           21968\n",
       "3  891689557279858688           7190           36774\n",
       "4  891327558926688256           7711           35167"
      ]
     },
     "execution_count": 6,
     "metadata": {},
     "output_type": "execute_result"
    }
   ],
   "source": [
    "#creating a list from the newly created tweet_json.txt file\n",
    "twitter_apis = []                       #empty list\n",
    "for data in tweets:                     #looping through the text\n",
    "    twitter_apis.append({'id' : data['id'], # mapping the data and then appending to the empty list\n",
    "                       'retweet_count': int(data['retweet_count']),\n",
    "                       'favorite_count' : int(data['favorite_count'])})\n",
    "\n",
    "#creating a dataframe from the new list\n",
    "twitter_api = pd.DataFrame(twitter_apis, columns = ['id', 'retweet_count' , 'favorite_count']) \n",
    "\n",
    "#rename column\n",
    "twitter_api.rename(columns = {'id':'tweet_id'}, inplace=True)\n",
    "\n",
    "#Checking out the twitter_api df\n",
    "twitter_api.head() "
   ]
  },
  {
   "cell_type": "markdown",
   "id": "8cf79911",
   "metadata": {},
   "source": [
    "## Data Assessment\n",
    "\n",
    "Here we take a look into the data that has been downloaded and loaded. This will allow us get a feel of the data and know what issues the data has(quality and tidyness issues).\n",
    "\n",
    "### Looking Into Data With Excel and Pandas\n",
    "\n",
    "After the data was gathered and loaded, they were investigated using excel and pandas. In excel, using the filtering and in pandas using the info, head and shape pandas methods.\n",
    "\n",
    "Using excel, inconsistent rating scores were being used for both the denominator and numerator, with the prescribe rating being over 10. Peculiar dog names were also observed e.g; 'None', 'a', 'an' etc.\n",
    "\n",
    "Using pandas, we observed incomplete data collected and inappropriate data types given to certain columns amongst others.\n",
    "\n",
    "### Issues Observed\n",
    "\n",
    "Given below are the observed issues we observed while assesing the data;\n",
    "\n",
    "#### Quality (The Validity,Completeness, Consistency, Accuracy Issues)\n",
    "\n",
    "1. \"twitter_arc\" has 2356 rows while the \"twitter_pred\" has only 2075 rows, which can be attributed to retweets and missing photos.\n",
    "2. Not needed retweet and in_reply columns(user_id, retweeted_status_id, in_reply_to_user_id)\n",
    "3. Unusual dog names, such as; 'a', 'an','all', etc., we also had missing names.\n",
    "4. Wrong numerator and denominator numbers/values.\n",
    "5. The source data is not clear as we have html tags surrounding the needed info.\n",
    "6. Timestamp is stored in a wrong data types\n",
    "7. tweet_id is stored in a wrong data type.\n",
    "8. Not all the data are in their most appropriate data type\n",
    "\n",
    "\n",
    "\n",
    "#### Tidiness (The structural issues)\n",
    "\n",
    "1. All three dataframes, should be together to form a complete dataframe.\n",
    "2. The doggo, floffer, pupper, and puppo columns in the \"twitter_arc\" should be together in one column.\n"
   ]
  },
  {
   "cell_type": "code",
   "execution_count": 7,
   "id": "9d9066f0",
   "metadata": {},
   "outputs": [
    {
     "data": {
      "text/html": [
       "<div>\n",
       "<style scoped>\n",
       "    .dataframe tbody tr th:only-of-type {\n",
       "        vertical-align: middle;\n",
       "    }\n",
       "\n",
       "    .dataframe tbody tr th {\n",
       "        vertical-align: top;\n",
       "    }\n",
       "\n",
       "    .dataframe thead th {\n",
       "        text-align: right;\n",
       "    }\n",
       "</style>\n",
       "<table border=\"1\" class=\"dataframe\">\n",
       "  <thead>\n",
       "    <tr style=\"text-align: right;\">\n",
       "      <th></th>\n",
       "      <th>tweet_id</th>\n",
       "      <th>in_reply_to_status_id</th>\n",
       "      <th>in_reply_to_user_id</th>\n",
       "      <th>timestamp</th>\n",
       "      <th>source</th>\n",
       "      <th>text</th>\n",
       "      <th>retweeted_status_id</th>\n",
       "      <th>retweeted_status_user_id</th>\n",
       "      <th>retweeted_status_timestamp</th>\n",
       "      <th>expanded_urls</th>\n",
       "      <th>rating_numerator</th>\n",
       "      <th>rating_denominator</th>\n",
       "      <th>name</th>\n",
       "      <th>doggo</th>\n",
       "      <th>floofer</th>\n",
       "      <th>pupper</th>\n",
       "      <th>puppo</th>\n",
       "    </tr>\n",
       "  </thead>\n",
       "  <tbody>\n",
       "    <tr>\n",
       "      <th>0</th>\n",
       "      <td>892420643555336193</td>\n",
       "      <td>NaN</td>\n",
       "      <td>NaN</td>\n",
       "      <td>2017-08-01 16:23:56 +0000</td>\n",
       "      <td>&lt;a href=\"http://twitter.com/download/iphone\" r...</td>\n",
       "      <td>This is Phineas. He's a mystical boy. Only eve...</td>\n",
       "      <td>NaN</td>\n",
       "      <td>NaN</td>\n",
       "      <td>NaN</td>\n",
       "      <td>https://twitter.com/dog_rates/status/892420643...</td>\n",
       "      <td>13</td>\n",
       "      <td>10</td>\n",
       "      <td>Phineas</td>\n",
       "      <td>None</td>\n",
       "      <td>None</td>\n",
       "      <td>None</td>\n",
       "      <td>None</td>\n",
       "    </tr>\n",
       "    <tr>\n",
       "      <th>1</th>\n",
       "      <td>892177421306343426</td>\n",
       "      <td>NaN</td>\n",
       "      <td>NaN</td>\n",
       "      <td>2017-08-01 00:17:27 +0000</td>\n",
       "      <td>&lt;a href=\"http://twitter.com/download/iphone\" r...</td>\n",
       "      <td>This is Tilly. She's just checking pup on you....</td>\n",
       "      <td>NaN</td>\n",
       "      <td>NaN</td>\n",
       "      <td>NaN</td>\n",
       "      <td>https://twitter.com/dog_rates/status/892177421...</td>\n",
       "      <td>13</td>\n",
       "      <td>10</td>\n",
       "      <td>Tilly</td>\n",
       "      <td>None</td>\n",
       "      <td>None</td>\n",
       "      <td>None</td>\n",
       "      <td>None</td>\n",
       "    </tr>\n",
       "    <tr>\n",
       "      <th>2</th>\n",
       "      <td>891815181378084864</td>\n",
       "      <td>NaN</td>\n",
       "      <td>NaN</td>\n",
       "      <td>2017-07-31 00:18:03 +0000</td>\n",
       "      <td>&lt;a href=\"http://twitter.com/download/iphone\" r...</td>\n",
       "      <td>This is Archie. He is a rare Norwegian Pouncin...</td>\n",
       "      <td>NaN</td>\n",
       "      <td>NaN</td>\n",
       "      <td>NaN</td>\n",
       "      <td>https://twitter.com/dog_rates/status/891815181...</td>\n",
       "      <td>12</td>\n",
       "      <td>10</td>\n",
       "      <td>Archie</td>\n",
       "      <td>None</td>\n",
       "      <td>None</td>\n",
       "      <td>None</td>\n",
       "      <td>None</td>\n",
       "    </tr>\n",
       "    <tr>\n",
       "      <th>3</th>\n",
       "      <td>891689557279858688</td>\n",
       "      <td>NaN</td>\n",
       "      <td>NaN</td>\n",
       "      <td>2017-07-30 15:58:51 +0000</td>\n",
       "      <td>&lt;a href=\"http://twitter.com/download/iphone\" r...</td>\n",
       "      <td>This is Darla. She commenced a snooze mid meal...</td>\n",
       "      <td>NaN</td>\n",
       "      <td>NaN</td>\n",
       "      <td>NaN</td>\n",
       "      <td>https://twitter.com/dog_rates/status/891689557...</td>\n",
       "      <td>13</td>\n",
       "      <td>10</td>\n",
       "      <td>Darla</td>\n",
       "      <td>None</td>\n",
       "      <td>None</td>\n",
       "      <td>None</td>\n",
       "      <td>None</td>\n",
       "    </tr>\n",
       "    <tr>\n",
       "      <th>4</th>\n",
       "      <td>891327558926688256</td>\n",
       "      <td>NaN</td>\n",
       "      <td>NaN</td>\n",
       "      <td>2017-07-29 16:00:24 +0000</td>\n",
       "      <td>&lt;a href=\"http://twitter.com/download/iphone\" r...</td>\n",
       "      <td>This is Franklin. He would like you to stop ca...</td>\n",
       "      <td>NaN</td>\n",
       "      <td>NaN</td>\n",
       "      <td>NaN</td>\n",
       "      <td>https://twitter.com/dog_rates/status/891327558...</td>\n",
       "      <td>12</td>\n",
       "      <td>10</td>\n",
       "      <td>Franklin</td>\n",
       "      <td>None</td>\n",
       "      <td>None</td>\n",
       "      <td>None</td>\n",
       "      <td>None</td>\n",
       "    </tr>\n",
       "  </tbody>\n",
       "</table>\n",
       "</div>"
      ],
      "text/plain": [
       "             tweet_id  in_reply_to_status_id  in_reply_to_user_id  \\\n",
       "0  892420643555336193                    NaN                  NaN   \n",
       "1  892177421306343426                    NaN                  NaN   \n",
       "2  891815181378084864                    NaN                  NaN   \n",
       "3  891689557279858688                    NaN                  NaN   \n",
       "4  891327558926688256                    NaN                  NaN   \n",
       "\n",
       "                   timestamp  \\\n",
       "0  2017-08-01 16:23:56 +0000   \n",
       "1  2017-08-01 00:17:27 +0000   \n",
       "2  2017-07-31 00:18:03 +0000   \n",
       "3  2017-07-30 15:58:51 +0000   \n",
       "4  2017-07-29 16:00:24 +0000   \n",
       "\n",
       "                                              source  \\\n",
       "0  <a href=\"http://twitter.com/download/iphone\" r...   \n",
       "1  <a href=\"http://twitter.com/download/iphone\" r...   \n",
       "2  <a href=\"http://twitter.com/download/iphone\" r...   \n",
       "3  <a href=\"http://twitter.com/download/iphone\" r...   \n",
       "4  <a href=\"http://twitter.com/download/iphone\" r...   \n",
       "\n",
       "                                                text  retweeted_status_id  \\\n",
       "0  This is Phineas. He's a mystical boy. Only eve...                  NaN   \n",
       "1  This is Tilly. She's just checking pup on you....                  NaN   \n",
       "2  This is Archie. He is a rare Norwegian Pouncin...                  NaN   \n",
       "3  This is Darla. She commenced a snooze mid meal...                  NaN   \n",
       "4  This is Franklin. He would like you to stop ca...                  NaN   \n",
       "\n",
       "   retweeted_status_user_id retweeted_status_timestamp  \\\n",
       "0                       NaN                        NaN   \n",
       "1                       NaN                        NaN   \n",
       "2                       NaN                        NaN   \n",
       "3                       NaN                        NaN   \n",
       "4                       NaN                        NaN   \n",
       "\n",
       "                                       expanded_urls  rating_numerator  \\\n",
       "0  https://twitter.com/dog_rates/status/892420643...                13   \n",
       "1  https://twitter.com/dog_rates/status/892177421...                13   \n",
       "2  https://twitter.com/dog_rates/status/891815181...                12   \n",
       "3  https://twitter.com/dog_rates/status/891689557...                13   \n",
       "4  https://twitter.com/dog_rates/status/891327558...                12   \n",
       "\n",
       "   rating_denominator      name doggo floofer pupper puppo  \n",
       "0                  10   Phineas  None    None   None  None  \n",
       "1                  10     Tilly  None    None   None  None  \n",
       "2                  10    Archie  None    None   None  None  \n",
       "3                  10     Darla  None    None   None  None  \n",
       "4                  10  Franklin  None    None   None  None  "
      ]
     },
     "execution_count": 7,
     "metadata": {},
     "output_type": "execute_result"
    }
   ],
   "source": [
    "#taking a look at our twitter_archive data\n",
    "\n",
    "twitter_arc.head()"
   ]
  },
  {
   "cell_type": "code",
   "execution_count": 8,
   "id": "65603d14",
   "metadata": {},
   "outputs": [
    {
     "name": "stdout",
     "output_type": "stream",
     "text": [
      "<class 'pandas.core.frame.DataFrame'>\n",
      "RangeIndex: 2356 entries, 0 to 2355\n",
      "Data columns (total 17 columns):\n",
      " #   Column                      Non-Null Count  Dtype  \n",
      "---  ------                      --------------  -----  \n",
      " 0   tweet_id                    2356 non-null   int64  \n",
      " 1   in_reply_to_status_id       78 non-null     float64\n",
      " 2   in_reply_to_user_id         78 non-null     float64\n",
      " 3   timestamp                   2356 non-null   object \n",
      " 4   source                      2356 non-null   object \n",
      " 5   text                        2356 non-null   object \n",
      " 6   retweeted_status_id         181 non-null    float64\n",
      " 7   retweeted_status_user_id    181 non-null    float64\n",
      " 8   retweeted_status_timestamp  181 non-null    object \n",
      " 9   expanded_urls               2297 non-null   object \n",
      " 10  rating_numerator            2356 non-null   int64  \n",
      " 11  rating_denominator          2356 non-null   int64  \n",
      " 12  name                        2356 non-null   object \n",
      " 13  doggo                       2356 non-null   object \n",
      " 14  floofer                     2356 non-null   object \n",
      " 15  pupper                      2356 non-null   object \n",
      " 16  puppo                       2356 non-null   object \n",
      "dtypes: float64(4), int64(3), object(10)\n",
      "memory usage: 313.0+ KB\n"
     ]
    }
   ],
   "source": [
    "#further look into the information of the data\n",
    "\n",
    "twitter_arc.info()"
   ]
  },
  {
   "cell_type": "code",
   "execution_count": 9,
   "id": "147f798c",
   "metadata": {},
   "outputs": [
    {
     "data": {
      "text/plain": [
       "(2356, 17)"
      ]
     },
     "execution_count": 9,
     "metadata": {},
     "output_type": "execute_result"
    }
   ],
   "source": [
    "#further look into the information of the data\n",
    "\n",
    "twitter_arc.shape"
   ]
  },
  {
   "cell_type": "code",
   "execution_count": 10,
   "id": "dc3f54c3",
   "metadata": {},
   "outputs": [
    {
     "data": {
      "text/plain": [
       "None       745\n",
       "a           55\n",
       "Charlie     12\n",
       "Cooper      11\n",
       "Lucy        11\n",
       "Oliver      11\n",
       "Tucker      10\n",
       "Penny       10\n",
       "Lola        10\n",
       "Winston      9\n",
       "Bo           9\n",
       "Sadie        8\n",
       "the          8\n",
       "Daisy        7\n",
       "Buddy        7\n",
       "Toby         7\n",
       "an           7\n",
       "Bailey       7\n",
       "Name: name, dtype: int64"
      ]
     },
     "execution_count": 10,
     "metadata": {},
     "output_type": "execute_result"
    }
   ],
   "source": [
    "#checking to see names of dogs\n",
    "\n",
    "twitter_arc['name'].value_counts().head(18)"
   ]
  },
  {
   "cell_type": "code",
   "execution_count": 11,
   "id": "6d02aae4",
   "metadata": {},
   "outputs": [
    {
     "data": {
      "text/html": [
       "<div>\n",
       "<style scoped>\n",
       "    .dataframe tbody tr th:only-of-type {\n",
       "        vertical-align: middle;\n",
       "    }\n",
       "\n",
       "    .dataframe tbody tr th {\n",
       "        vertical-align: top;\n",
       "    }\n",
       "\n",
       "    .dataframe thead th {\n",
       "        text-align: right;\n",
       "    }\n",
       "</style>\n",
       "<table border=\"1\" class=\"dataframe\">\n",
       "  <thead>\n",
       "    <tr style=\"text-align: right;\">\n",
       "      <th></th>\n",
       "      <th>tweet_id</th>\n",
       "      <th>jpg_url</th>\n",
       "      <th>img_num</th>\n",
       "      <th>p1</th>\n",
       "      <th>p1_conf</th>\n",
       "      <th>p1_dog</th>\n",
       "      <th>p2</th>\n",
       "      <th>p2_conf</th>\n",
       "      <th>p2_dog</th>\n",
       "      <th>p3</th>\n",
       "      <th>p3_conf</th>\n",
       "      <th>p3_dog</th>\n",
       "    </tr>\n",
       "  </thead>\n",
       "  <tbody>\n",
       "    <tr>\n",
       "      <th>0</th>\n",
       "      <td>666020888022790149</td>\n",
       "      <td>https://pbs.twimg.com/media/CT4udn0WwAA0aMy.jpg</td>\n",
       "      <td>1</td>\n",
       "      <td>Welsh_springer_spaniel</td>\n",
       "      <td>0.465074</td>\n",
       "      <td>True</td>\n",
       "      <td>collie</td>\n",
       "      <td>0.156665</td>\n",
       "      <td>True</td>\n",
       "      <td>Shetland_sheepdog</td>\n",
       "      <td>0.061428</td>\n",
       "      <td>True</td>\n",
       "    </tr>\n",
       "    <tr>\n",
       "      <th>1</th>\n",
       "      <td>666029285002620928</td>\n",
       "      <td>https://pbs.twimg.com/media/CT42GRgUYAA5iDo.jpg</td>\n",
       "      <td>1</td>\n",
       "      <td>redbone</td>\n",
       "      <td>0.506826</td>\n",
       "      <td>True</td>\n",
       "      <td>miniature_pinscher</td>\n",
       "      <td>0.074192</td>\n",
       "      <td>True</td>\n",
       "      <td>Rhodesian_ridgeback</td>\n",
       "      <td>0.072010</td>\n",
       "      <td>True</td>\n",
       "    </tr>\n",
       "    <tr>\n",
       "      <th>2</th>\n",
       "      <td>666033412701032449</td>\n",
       "      <td>https://pbs.twimg.com/media/CT4521TWwAEvMyu.jpg</td>\n",
       "      <td>1</td>\n",
       "      <td>German_shepherd</td>\n",
       "      <td>0.596461</td>\n",
       "      <td>True</td>\n",
       "      <td>malinois</td>\n",
       "      <td>0.138584</td>\n",
       "      <td>True</td>\n",
       "      <td>bloodhound</td>\n",
       "      <td>0.116197</td>\n",
       "      <td>True</td>\n",
       "    </tr>\n",
       "    <tr>\n",
       "      <th>3</th>\n",
       "      <td>666044226329800704</td>\n",
       "      <td>https://pbs.twimg.com/media/CT5Dr8HUEAA-lEu.jpg</td>\n",
       "      <td>1</td>\n",
       "      <td>Rhodesian_ridgeback</td>\n",
       "      <td>0.408143</td>\n",
       "      <td>True</td>\n",
       "      <td>redbone</td>\n",
       "      <td>0.360687</td>\n",
       "      <td>True</td>\n",
       "      <td>miniature_pinscher</td>\n",
       "      <td>0.222752</td>\n",
       "      <td>True</td>\n",
       "    </tr>\n",
       "    <tr>\n",
       "      <th>4</th>\n",
       "      <td>666049248165822465</td>\n",
       "      <td>https://pbs.twimg.com/media/CT5IQmsXIAAKY4A.jpg</td>\n",
       "      <td>1</td>\n",
       "      <td>miniature_pinscher</td>\n",
       "      <td>0.560311</td>\n",
       "      <td>True</td>\n",
       "      <td>Rottweiler</td>\n",
       "      <td>0.243682</td>\n",
       "      <td>True</td>\n",
       "      <td>Doberman</td>\n",
       "      <td>0.154629</td>\n",
       "      <td>True</td>\n",
       "    </tr>\n",
       "  </tbody>\n",
       "</table>\n",
       "</div>"
      ],
      "text/plain": [
       "             tweet_id                                          jpg_url  \\\n",
       "0  666020888022790149  https://pbs.twimg.com/media/CT4udn0WwAA0aMy.jpg   \n",
       "1  666029285002620928  https://pbs.twimg.com/media/CT42GRgUYAA5iDo.jpg   \n",
       "2  666033412701032449  https://pbs.twimg.com/media/CT4521TWwAEvMyu.jpg   \n",
       "3  666044226329800704  https://pbs.twimg.com/media/CT5Dr8HUEAA-lEu.jpg   \n",
       "4  666049248165822465  https://pbs.twimg.com/media/CT5IQmsXIAAKY4A.jpg   \n",
       "\n",
       "   img_num                      p1   p1_conf  p1_dog                  p2  \\\n",
       "0        1  Welsh_springer_spaniel  0.465074    True              collie   \n",
       "1        1                 redbone  0.506826    True  miniature_pinscher   \n",
       "2        1         German_shepherd  0.596461    True            malinois   \n",
       "3        1     Rhodesian_ridgeback  0.408143    True             redbone   \n",
       "4        1      miniature_pinscher  0.560311    True          Rottweiler   \n",
       "\n",
       "    p2_conf  p2_dog                   p3   p3_conf  p3_dog  \n",
       "0  0.156665    True    Shetland_sheepdog  0.061428    True  \n",
       "1  0.074192    True  Rhodesian_ridgeback  0.072010    True  \n",
       "2  0.138584    True           bloodhound  0.116197    True  \n",
       "3  0.360687    True   miniature_pinscher  0.222752    True  \n",
       "4  0.243682    True             Doberman  0.154629    True  "
      ]
     },
     "execution_count": 11,
     "metadata": {},
     "output_type": "execute_result"
    }
   ],
   "source": [
    "#taking a look at our image_predictions data\n",
    "\n",
    "twitter_pred.head()"
   ]
  },
  {
   "cell_type": "code",
   "execution_count": 12,
   "id": "3061d602",
   "metadata": {},
   "outputs": [
    {
     "name": "stdout",
     "output_type": "stream",
     "text": [
      "<class 'pandas.core.frame.DataFrame'>\n",
      "RangeIndex: 2075 entries, 0 to 2074\n",
      "Data columns (total 12 columns):\n",
      " #   Column    Non-Null Count  Dtype  \n",
      "---  ------    --------------  -----  \n",
      " 0   tweet_id  2075 non-null   int64  \n",
      " 1   jpg_url   2075 non-null   object \n",
      " 2   img_num   2075 non-null   int64  \n",
      " 3   p1        2075 non-null   object \n",
      " 4   p1_conf   2075 non-null   float64\n",
      " 5   p1_dog    2075 non-null   bool   \n",
      " 6   p2        2075 non-null   object \n",
      " 7   p2_conf   2075 non-null   float64\n",
      " 8   p2_dog    2075 non-null   bool   \n",
      " 9   p3        2075 non-null   object \n",
      " 10  p3_conf   2075 non-null   float64\n",
      " 11  p3_dog    2075 non-null   bool   \n",
      "dtypes: bool(3), float64(3), int64(2), object(4)\n",
      "memory usage: 152.1+ KB\n"
     ]
    }
   ],
   "source": [
    "#further look into the information of the data\n",
    "\n",
    "twitter_pred.info()"
   ]
  },
  {
   "cell_type": "code",
   "execution_count": 13,
   "id": "6877d5c5",
   "metadata": {},
   "outputs": [
    {
     "data": {
      "text/plain": [
       "(2075, 12)"
      ]
     },
     "execution_count": 13,
     "metadata": {},
     "output_type": "execute_result"
    }
   ],
   "source": [
    "#further look into the information of the data\n",
    "\n",
    "twitter_pred.shape"
   ]
  },
  {
   "cell_type": "code",
   "execution_count": 14,
   "id": "d2a6b2ab",
   "metadata": {},
   "outputs": [
    {
     "data": {
      "text/html": [
       "<div>\n",
       "<style scoped>\n",
       "    .dataframe tbody tr th:only-of-type {\n",
       "        vertical-align: middle;\n",
       "    }\n",
       "\n",
       "    .dataframe tbody tr th {\n",
       "        vertical-align: top;\n",
       "    }\n",
       "\n",
       "    .dataframe thead th {\n",
       "        text-align: right;\n",
       "    }\n",
       "</style>\n",
       "<table border=\"1\" class=\"dataframe\">\n",
       "  <thead>\n",
       "    <tr style=\"text-align: right;\">\n",
       "      <th></th>\n",
       "      <th>tweet_id</th>\n",
       "      <th>retweet_count</th>\n",
       "      <th>favorite_count</th>\n",
       "    </tr>\n",
       "  </thead>\n",
       "  <tbody>\n",
       "    <tr>\n",
       "      <th>0</th>\n",
       "      <td>892420643555336193</td>\n",
       "      <td>6967</td>\n",
       "      <td>33683</td>\n",
       "    </tr>\n",
       "    <tr>\n",
       "      <th>1</th>\n",
       "      <td>892177421306343426</td>\n",
       "      <td>5271</td>\n",
       "      <td>29218</td>\n",
       "    </tr>\n",
       "    <tr>\n",
       "      <th>2</th>\n",
       "      <td>891815181378084864</td>\n",
       "      <td>3464</td>\n",
       "      <td>21968</td>\n",
       "    </tr>\n",
       "    <tr>\n",
       "      <th>3</th>\n",
       "      <td>891689557279858688</td>\n",
       "      <td>7190</td>\n",
       "      <td>36774</td>\n",
       "    </tr>\n",
       "    <tr>\n",
       "      <th>4</th>\n",
       "      <td>891327558926688256</td>\n",
       "      <td>7711</td>\n",
       "      <td>35167</td>\n",
       "    </tr>\n",
       "  </tbody>\n",
       "</table>\n",
       "</div>"
      ],
      "text/plain": [
       "             tweet_id  retweet_count  favorite_count\n",
       "0  892420643555336193           6967           33683\n",
       "1  892177421306343426           5271           29218\n",
       "2  891815181378084864           3464           21968\n",
       "3  891689557279858688           7190           36774\n",
       "4  891327558926688256           7711           35167"
      ]
     },
     "execution_count": 14,
     "metadata": {},
     "output_type": "execute_result"
    }
   ],
   "source": [
    "#further look into the information of the data\n",
    "\n",
    "twitter_api.head()"
   ]
  },
  {
   "cell_type": "code",
   "execution_count": 15,
   "id": "851ee1ca",
   "metadata": {},
   "outputs": [
    {
     "name": "stdout",
     "output_type": "stream",
     "text": [
      "<class 'pandas.core.frame.DataFrame'>\n",
      "RangeIndex: 2327 entries, 0 to 2326\n",
      "Data columns (total 3 columns):\n",
      " #   Column          Non-Null Count  Dtype\n",
      "---  ------          --------------  -----\n",
      " 0   tweet_id        2327 non-null   int64\n",
      " 1   retweet_count   2327 non-null   int64\n",
      " 2   favorite_count  2327 non-null   int64\n",
      "dtypes: int64(3)\n",
      "memory usage: 54.7 KB\n"
     ]
    }
   ],
   "source": [
    "#further look into the information of the data\n",
    "\n",
    "twitter_api.info()"
   ]
  },
  {
   "cell_type": "code",
   "execution_count": 16,
   "id": "2e4ca030",
   "metadata": {},
   "outputs": [
    {
     "data": {
      "text/plain": [
       "12    558\n",
       "11    464\n",
       "10    461\n",
       "13    351\n",
       "9     158\n",
       "Name: rating_numerator, dtype: int64"
      ]
     },
     "execution_count": 16,
     "metadata": {},
     "output_type": "execute_result"
    }
   ],
   "source": [
    "#taking a count to see most occuring numerator scores\n",
    "\n",
    "twitter_arc.rating_numerator.value_counts().head(5) "
   ]
  },
  {
   "cell_type": "code",
   "execution_count": 17,
   "id": "717f73ad",
   "metadata": {},
   "outputs": [
    {
     "data": {
      "text/plain": [
       "10    2333\n",
       "11       3\n",
       "50       3\n",
       "20       2\n",
       "80       2\n",
       "Name: rating_denominator, dtype: int64"
      ]
     },
     "execution_count": 17,
     "metadata": {},
     "output_type": "execute_result"
    }
   ],
   "source": [
    "#taking a count to see most occuring denominator scores\n",
    "\n",
    "twitter_arc.rating_denominator.value_counts().head(5) "
   ]
  },
  {
   "cell_type": "code",
   "execution_count": 18,
   "id": "2c968946",
   "metadata": {},
   "outputs": [
    {
     "data": {
      "text/plain": [
       "19.8"
      ]
     },
     "execution_count": 18,
     "metadata": {},
     "output_type": "execute_result"
    }
   ],
   "source": [
    "# about 20% of our dogs have a score of 10/10\n",
    "round(((twitter_arc.rating_numerator == 10).sum()/(twitter_arc.rating_denominator == 10).sum())*100,1)"
   ]
  },
  {
   "cell_type": "code",
   "execution_count": 19,
   "id": "046bc2ec",
   "metadata": {},
   "outputs": [
    {
     "data": {
      "text/plain": [
       "43.4"
      ]
     },
     "execution_count": 19,
     "metadata": {},
     "output_type": "execute_result"
    }
   ],
   "source": [
    "# about 43% of our numerators have values greater than 10\n",
    "\n",
    "x = (twitter_arc.rating_numerator == 11).sum()\n",
    "y = (twitter_arc.rating_numerator == 12).sum()\n",
    "z = len(twitter_arc.rating_numerator)\n",
    "round(((x+y)/z)*100, 1)"
   ]
  },
  {
   "cell_type": "code",
   "execution_count": 20,
   "id": "f0918ff4",
   "metadata": {},
   "outputs": [
    {
     "data": {
      "text/plain": [
       "<a href=\"http://twitter.com/download/iphone\" rel=\"nofollow\">Twitter for iPhone</a>     2221\n",
       "<a href=\"http://vine.co\" rel=\"nofollow\">Vine - Make a Scene</a>                          91\n",
       "<a href=\"http://twitter.com\" rel=\"nofollow\">Twitter Web Client</a>                       33\n",
       "<a href=\"https://about.twitter.com/products/tweetdeck\" rel=\"nofollow\">TweetDeck</a>      11\n",
       "Name: source, dtype: int64"
      ]
     },
     "execution_count": 20,
     "metadata": {},
     "output_type": "execute_result"
    }
   ],
   "source": [
    "#count for sources of tweets\n",
    "\n",
    "twitter_arc.source.value_counts()"
   ]
  },
  {
   "cell_type": "markdown",
   "id": "715fdfdb",
   "metadata": {},
   "source": [
    "## DATA CLEANING\n",
    "\n",
    "Here we clean the data and right the wrongs of data as identified in the data assessment phase."
   ]
  },
  {
   "cell_type": "markdown",
   "id": "c5e8b44f",
   "metadata": {},
   "source": [
    "#### Define: Creating Copies"
   ]
  },
  {
   "cell_type": "markdown",
   "id": "2514d1f7",
   "metadata": {},
   "source": [
    "##### Code"
   ]
  },
  {
   "cell_type": "code",
   "execution_count": 21,
   "id": "31c85668",
   "metadata": {},
   "outputs": [],
   "source": [
    "#making copies of our data\n",
    "\n",
    "twitter_arc_old = twitter_arc.copy()\n",
    "twitter_pred_old = twitter_pred.copy()\n",
    "twitter_api_old = twitter_api.copy()"
   ]
  },
  {
   "cell_type": "markdown",
   "id": "6e800e4c",
   "metadata": {},
   "source": [
    "##### Test"
   ]
  },
  {
   "cell_type": "code",
   "execution_count": 22,
   "id": "01ff9c77",
   "metadata": {},
   "outputs": [
    {
     "data": {
      "text/html": [
       "<div>\n",
       "<style scoped>\n",
       "    .dataframe tbody tr th:only-of-type {\n",
       "        vertical-align: middle;\n",
       "    }\n",
       "\n",
       "    .dataframe tbody tr th {\n",
       "        vertical-align: top;\n",
       "    }\n",
       "\n",
       "    .dataframe thead th {\n",
       "        text-align: right;\n",
       "    }\n",
       "</style>\n",
       "<table border=\"1\" class=\"dataframe\">\n",
       "  <thead>\n",
       "    <tr style=\"text-align: right;\">\n",
       "      <th></th>\n",
       "      <th>tweet_id</th>\n",
       "      <th>in_reply_to_status_id</th>\n",
       "      <th>in_reply_to_user_id</th>\n",
       "      <th>timestamp</th>\n",
       "      <th>source</th>\n",
       "      <th>text</th>\n",
       "      <th>retweeted_status_id</th>\n",
       "      <th>retweeted_status_user_id</th>\n",
       "      <th>retweeted_status_timestamp</th>\n",
       "      <th>expanded_urls</th>\n",
       "      <th>rating_numerator</th>\n",
       "      <th>rating_denominator</th>\n",
       "      <th>name</th>\n",
       "      <th>doggo</th>\n",
       "      <th>floofer</th>\n",
       "      <th>pupper</th>\n",
       "      <th>puppo</th>\n",
       "    </tr>\n",
       "  </thead>\n",
       "  <tbody>\n",
       "    <tr>\n",
       "      <th>0</th>\n",
       "      <td>892420643555336193</td>\n",
       "      <td>NaN</td>\n",
       "      <td>NaN</td>\n",
       "      <td>2017-08-01 16:23:56 +0000</td>\n",
       "      <td>&lt;a href=\"http://twitter.com/download/iphone\" r...</td>\n",
       "      <td>This is Phineas. He's a mystical boy. Only eve...</td>\n",
       "      <td>NaN</td>\n",
       "      <td>NaN</td>\n",
       "      <td>NaN</td>\n",
       "      <td>https://twitter.com/dog_rates/status/892420643...</td>\n",
       "      <td>13</td>\n",
       "      <td>10</td>\n",
       "      <td>Phineas</td>\n",
       "      <td>None</td>\n",
       "      <td>None</td>\n",
       "      <td>None</td>\n",
       "      <td>None</td>\n",
       "    </tr>\n",
       "    <tr>\n",
       "      <th>1</th>\n",
       "      <td>892177421306343426</td>\n",
       "      <td>NaN</td>\n",
       "      <td>NaN</td>\n",
       "      <td>2017-08-01 00:17:27 +0000</td>\n",
       "      <td>&lt;a href=\"http://twitter.com/download/iphone\" r...</td>\n",
       "      <td>This is Tilly. She's just checking pup on you....</td>\n",
       "      <td>NaN</td>\n",
       "      <td>NaN</td>\n",
       "      <td>NaN</td>\n",
       "      <td>https://twitter.com/dog_rates/status/892177421...</td>\n",
       "      <td>13</td>\n",
       "      <td>10</td>\n",
       "      <td>Tilly</td>\n",
       "      <td>None</td>\n",
       "      <td>None</td>\n",
       "      <td>None</td>\n",
       "      <td>None</td>\n",
       "    </tr>\n",
       "  </tbody>\n",
       "</table>\n",
       "</div>"
      ],
      "text/plain": [
       "             tweet_id  in_reply_to_status_id  in_reply_to_user_id  \\\n",
       "0  892420643555336193                    NaN                  NaN   \n",
       "1  892177421306343426                    NaN                  NaN   \n",
       "\n",
       "                   timestamp  \\\n",
       "0  2017-08-01 16:23:56 +0000   \n",
       "1  2017-08-01 00:17:27 +0000   \n",
       "\n",
       "                                              source  \\\n",
       "0  <a href=\"http://twitter.com/download/iphone\" r...   \n",
       "1  <a href=\"http://twitter.com/download/iphone\" r...   \n",
       "\n",
       "                                                text  retweeted_status_id  \\\n",
       "0  This is Phineas. He's a mystical boy. Only eve...                  NaN   \n",
       "1  This is Tilly. She's just checking pup on you....                  NaN   \n",
       "\n",
       "   retweeted_status_user_id retweeted_status_timestamp  \\\n",
       "0                       NaN                        NaN   \n",
       "1                       NaN                        NaN   \n",
       "\n",
       "                                       expanded_urls  rating_numerator  \\\n",
       "0  https://twitter.com/dog_rates/status/892420643...                13   \n",
       "1  https://twitter.com/dog_rates/status/892177421...                13   \n",
       "\n",
       "   rating_denominator     name doggo floofer pupper puppo  \n",
       "0                  10  Phineas  None    None   None  None  \n",
       "1                  10    Tilly  None    None   None  None  "
      ]
     },
     "execution_count": 22,
     "metadata": {},
     "output_type": "execute_result"
    }
   ],
   "source": [
    "twitter_arc_old.head(2)"
   ]
  },
  {
   "cell_type": "markdown",
   "id": "236270a4",
   "metadata": {},
   "source": [
    "#### Define: Cleaning the source data column \n",
    "\n",
    "##### Code"
   ]
  },
  {
   "cell_type": "code",
   "execution_count": 23,
   "id": "f5b01e9d",
   "metadata": {},
   "outputs": [],
   "source": [
    "#Cleaning source column data \n",
    "\n",
    "#the old list\n",
    "sources = ['<a href=\"http://twitter.com/download/iphone\" rel=\"nofollow\">Twitter for iPhone</a>',\n",
    "              '<a href=\"http://vine.co\" rel=\"nofollow\">Vine - Make a Scene</a>',\n",
    "              '<a href=\"http://twitter.com\" rel=\"nofollow\">Twitter Web Client</a>',\n",
    "              '<a href=\"https://about.twitter.com/products/tweetdeck\" rel=\"nofollow\">TweetDeck</a>']\n",
    "\n",
    "#the new list\n",
    "new_sources = ['Twitter for iPhone', 'Vine', 'Twitter Web Client', 'TweetDeck']"
   ]
  },
  {
   "cell_type": "code",
   "execution_count": 24,
   "id": "5a933b05",
   "metadata": {},
   "outputs": [],
   "source": [
    "#function to help in cleaning the source column\n",
    "\n",
    "def source_change():\n",
    "    for current, new in zip(sources, new_sources):\n",
    "        twitter_arc['source'].replace(sources, new_sources, inplace=True)\n",
    "        \n",
    "source_change()"
   ]
  },
  {
   "cell_type": "markdown",
   "id": "85e3eb2b",
   "metadata": {},
   "source": [
    "##### Test"
   ]
  },
  {
   "cell_type": "code",
   "execution_count": 25,
   "id": "dfa72820",
   "metadata": {},
   "outputs": [
    {
     "data": {
      "text/plain": [
       "Twitter for iPhone    2221\n",
       "Vine                    91\n",
       "Twitter Web Client      33\n",
       "TweetDeck               11\n",
       "Name: source, dtype: int64"
      ]
     },
     "execution_count": 25,
     "metadata": {},
     "output_type": "execute_result"
    }
   ],
   "source": [
    "#checking to see if cleaning worked\n",
    "\n",
    "twitter_arc['source'].value_counts()"
   ]
  },
  {
   "cell_type": "markdown",
   "id": "e9e0b056",
   "metadata": {},
   "source": [
    "#### Definition: Merging the data sets\n",
    "\n",
    "##### Code"
   ]
  },
  {
   "cell_type": "code",
   "execution_count": 26,
   "id": "1c3b3639",
   "metadata": {},
   "outputs": [],
   "source": [
    "#merging the twitter archive data and the twitter_api data to give arc_api df\n",
    "\n",
    "arc_api = pd.merge(twitter_arc, twitter_api, on=['tweet_id', 'tweet_id'], how='left')"
   ]
  },
  {
   "cell_type": "code",
   "execution_count": 27,
   "id": "e13beec8",
   "metadata": {},
   "outputs": [],
   "source": [
    "#merging the arc_api data and the twitter_pred data\n",
    "\n",
    "arc_api = pd.merge(arc_api, twitter_pred, on='tweet_id', how='left')"
   ]
  },
  {
   "cell_type": "markdown",
   "id": "49918520",
   "metadata": {},
   "source": [
    "##### Test"
   ]
  },
  {
   "cell_type": "code",
   "execution_count": 28,
   "id": "04f149af",
   "metadata": {
    "scrolled": true
   },
   "outputs": [
    {
     "data": {
      "text/html": [
       "<div>\n",
       "<style scoped>\n",
       "    .dataframe tbody tr th:only-of-type {\n",
       "        vertical-align: middle;\n",
       "    }\n",
       "\n",
       "    .dataframe tbody tr th {\n",
       "        vertical-align: top;\n",
       "    }\n",
       "\n",
       "    .dataframe thead th {\n",
       "        text-align: right;\n",
       "    }\n",
       "</style>\n",
       "<table border=\"1\" class=\"dataframe\">\n",
       "  <thead>\n",
       "    <tr style=\"text-align: right;\">\n",
       "      <th></th>\n",
       "      <th>tweet_id</th>\n",
       "      <th>in_reply_to_status_id</th>\n",
       "      <th>in_reply_to_user_id</th>\n",
       "      <th>timestamp</th>\n",
       "      <th>source</th>\n",
       "      <th>text</th>\n",
       "      <th>retweeted_status_id</th>\n",
       "      <th>retweeted_status_user_id</th>\n",
       "      <th>retweeted_status_timestamp</th>\n",
       "      <th>expanded_urls</th>\n",
       "      <th>rating_numerator</th>\n",
       "      <th>rating_denominator</th>\n",
       "      <th>...</th>\n",
       "      <th>favorite_count</th>\n",
       "      <th>jpg_url</th>\n",
       "      <th>img_num</th>\n",
       "      <th>p1</th>\n",
       "      <th>p1_conf</th>\n",
       "      <th>p1_dog</th>\n",
       "      <th>p2</th>\n",
       "      <th>p2_conf</th>\n",
       "      <th>p2_dog</th>\n",
       "      <th>p3</th>\n",
       "      <th>p3_conf</th>\n",
       "      <th>p3_dog</th>\n",
       "    </tr>\n",
       "  </thead>\n",
       "  <tbody>\n",
       "    <tr>\n",
       "      <th>0</th>\n",
       "      <td>892420643555336193</td>\n",
       "      <td>NaN</td>\n",
       "      <td>NaN</td>\n",
       "      <td>2017-08-01 16:23:56 +0000</td>\n",
       "      <td>Twitter for iPhone</td>\n",
       "      <td>This is Phineas. He's a mystical boy. Only eve...</td>\n",
       "      <td>NaN</td>\n",
       "      <td>NaN</td>\n",
       "      <td>NaN</td>\n",
       "      <td>https://twitter.com/dog_rates/status/892420643...</td>\n",
       "      <td>13</td>\n",
       "      <td>10</td>\n",
       "      <td>...</td>\n",
       "      <td>33683.0</td>\n",
       "      <td>https://pbs.twimg.com/media/DGKD1-bXoAAIAUK.jpg</td>\n",
       "      <td>1.0</td>\n",
       "      <td>orange</td>\n",
       "      <td>0.097049</td>\n",
       "      <td>False</td>\n",
       "      <td>bagel</td>\n",
       "      <td>0.085851</td>\n",
       "      <td>False</td>\n",
       "      <td>banana</td>\n",
       "      <td>0.076110</td>\n",
       "      <td>False</td>\n",
       "    </tr>\n",
       "    <tr>\n",
       "      <th>1</th>\n",
       "      <td>892177421306343426</td>\n",
       "      <td>NaN</td>\n",
       "      <td>NaN</td>\n",
       "      <td>2017-08-01 00:17:27 +0000</td>\n",
       "      <td>Twitter for iPhone</td>\n",
       "      <td>This is Tilly. She's just checking pup on you....</td>\n",
       "      <td>NaN</td>\n",
       "      <td>NaN</td>\n",
       "      <td>NaN</td>\n",
       "      <td>https://twitter.com/dog_rates/status/892177421...</td>\n",
       "      <td>13</td>\n",
       "      <td>10</td>\n",
       "      <td>...</td>\n",
       "      <td>29218.0</td>\n",
       "      <td>https://pbs.twimg.com/media/DGGmoV4XsAAUL6n.jpg</td>\n",
       "      <td>1.0</td>\n",
       "      <td>Chihuahua</td>\n",
       "      <td>0.323581</td>\n",
       "      <td>True</td>\n",
       "      <td>Pekinese</td>\n",
       "      <td>0.090647</td>\n",
       "      <td>True</td>\n",
       "      <td>papillon</td>\n",
       "      <td>0.068957</td>\n",
       "      <td>True</td>\n",
       "    </tr>\n",
       "  </tbody>\n",
       "</table>\n",
       "<p>2 rows × 30 columns</p>\n",
       "</div>"
      ],
      "text/plain": [
       "             tweet_id  in_reply_to_status_id  in_reply_to_user_id  \\\n",
       "0  892420643555336193                    NaN                  NaN   \n",
       "1  892177421306343426                    NaN                  NaN   \n",
       "\n",
       "                   timestamp              source  \\\n",
       "0  2017-08-01 16:23:56 +0000  Twitter for iPhone   \n",
       "1  2017-08-01 00:17:27 +0000  Twitter for iPhone   \n",
       "\n",
       "                                                text  retweeted_status_id  \\\n",
       "0  This is Phineas. He's a mystical boy. Only eve...                  NaN   \n",
       "1  This is Tilly. She's just checking pup on you....                  NaN   \n",
       "\n",
       "   retweeted_status_user_id retweeted_status_timestamp  \\\n",
       "0                       NaN                        NaN   \n",
       "1                       NaN                        NaN   \n",
       "\n",
       "                                       expanded_urls  rating_numerator  \\\n",
       "0  https://twitter.com/dog_rates/status/892420643...                13   \n",
       "1  https://twitter.com/dog_rates/status/892177421...                13   \n",
       "\n",
       "   rating_denominator  ... favorite_count  \\\n",
       "0                  10  ...        33683.0   \n",
       "1                  10  ...        29218.0   \n",
       "\n",
       "                                           jpg_url img_num         p1  \\\n",
       "0  https://pbs.twimg.com/media/DGKD1-bXoAAIAUK.jpg     1.0     orange   \n",
       "1  https://pbs.twimg.com/media/DGGmoV4XsAAUL6n.jpg     1.0  Chihuahua   \n",
       "\n",
       "    p1_conf  p1_dog        p2   p2_conf  p2_dog        p3   p3_conf p3_dog  \n",
       "0  0.097049   False     bagel  0.085851   False    banana  0.076110  False  \n",
       "1  0.323581    True  Pekinese  0.090647    True  papillon  0.068957   True  \n",
       "\n",
       "[2 rows x 30 columns]"
      ]
     },
     "execution_count": 28,
     "metadata": {},
     "output_type": "execute_result"
    }
   ],
   "source": [
    "#checking to see the newly merged columns\n",
    "\n",
    "arc_api.head(2)"
   ]
  },
  {
   "cell_type": "code",
   "execution_count": 29,
   "id": "50d1faf9",
   "metadata": {},
   "outputs": [
    {
     "name": "stdout",
     "output_type": "stream",
     "text": [
      "<class 'pandas.core.frame.DataFrame'>\n",
      "Int64Index: 2356 entries, 0 to 2355\n",
      "Data columns (total 30 columns):\n",
      " #   Column                      Non-Null Count  Dtype  \n",
      "---  ------                      --------------  -----  \n",
      " 0   tweet_id                    2356 non-null   int64  \n",
      " 1   in_reply_to_status_id       78 non-null     float64\n",
      " 2   in_reply_to_user_id         78 non-null     float64\n",
      " 3   timestamp                   2356 non-null   object \n",
      " 4   source                      2356 non-null   object \n",
      " 5   text                        2356 non-null   object \n",
      " 6   retweeted_status_id         181 non-null    float64\n",
      " 7   retweeted_status_user_id    181 non-null    float64\n",
      " 8   retweeted_status_timestamp  181 non-null    object \n",
      " 9   expanded_urls               2297 non-null   object \n",
      " 10  rating_numerator            2356 non-null   int64  \n",
      " 11  rating_denominator          2356 non-null   int64  \n",
      " 12  name                        2356 non-null   object \n",
      " 13  doggo                       2356 non-null   object \n",
      " 14  floofer                     2356 non-null   object \n",
      " 15  pupper                      2356 non-null   object \n",
      " 16  puppo                       2356 non-null   object \n",
      " 17  retweet_count               2327 non-null   float64\n",
      " 18  favorite_count              2327 non-null   float64\n",
      " 19  jpg_url                     2075 non-null   object \n",
      " 20  img_num                     2075 non-null   float64\n",
      " 21  p1                          2075 non-null   object \n",
      " 22  p1_conf                     2075 non-null   float64\n",
      " 23  p1_dog                      2075 non-null   object \n",
      " 24  p2                          2075 non-null   object \n",
      " 25  p2_conf                     2075 non-null   float64\n",
      " 26  p2_dog                      2075 non-null   object \n",
      " 27  p3                          2075 non-null   object \n",
      " 28  p3_conf                     2075 non-null   float64\n",
      " 29  p3_dog                      2075 non-null   object \n",
      "dtypes: float64(10), int64(3), object(17)\n",
      "memory usage: 570.6+ KB\n"
     ]
    }
   ],
   "source": [
    "arc_api.info()"
   ]
  },
  {
   "cell_type": "markdown",
   "id": "a334ca58",
   "metadata": {},
   "source": [
    "#### Definition: Cleaning rows and deleting columns that will not be needed ie; (retweet columns and in reply column)\n",
    "\n",
    "##### Code"
   ]
  },
  {
   "cell_type": "code",
   "execution_count": 30,
   "id": "0315e91d",
   "metadata": {},
   "outputs": [],
   "source": [
    "#deleting rows with data \n",
    "\n",
    "arc_api = arc_api[arc_api['retweeted_status_user_id'].isnull()]"
   ]
  },
  {
   "cell_type": "code",
   "execution_count": 31,
   "id": "52449cf8",
   "metadata": {},
   "outputs": [
    {
     "name": "stdout",
     "output_type": "stream",
     "text": [
      "<class 'pandas.core.frame.DataFrame'>\n",
      "Int64Index: 2175 entries, 0 to 2355\n",
      "Data columns (total 30 columns):\n",
      " #   Column                      Non-Null Count  Dtype  \n",
      "---  ------                      --------------  -----  \n",
      " 0   tweet_id                    2175 non-null   int64  \n",
      " 1   in_reply_to_status_id       78 non-null     float64\n",
      " 2   in_reply_to_user_id         78 non-null     float64\n",
      " 3   timestamp                   2175 non-null   object \n",
      " 4   source                      2175 non-null   object \n",
      " 5   text                        2175 non-null   object \n",
      " 6   retweeted_status_id         0 non-null      float64\n",
      " 7   retweeted_status_user_id    0 non-null      float64\n",
      " 8   retweeted_status_timestamp  0 non-null      object \n",
      " 9   expanded_urls               2117 non-null   object \n",
      " 10  rating_numerator            2175 non-null   int64  \n",
      " 11  rating_denominator          2175 non-null   int64  \n",
      " 12  name                        2175 non-null   object \n",
      " 13  doggo                       2175 non-null   object \n",
      " 14  floofer                     2175 non-null   object \n",
      " 15  pupper                      2175 non-null   object \n",
      " 16  puppo                       2175 non-null   object \n",
      " 17  retweet_count               2167 non-null   float64\n",
      " 18  favorite_count              2167 non-null   float64\n",
      " 19  jpg_url                     1994 non-null   object \n",
      " 20  img_num                     1994 non-null   float64\n",
      " 21  p1                          1994 non-null   object \n",
      " 22  p1_conf                     1994 non-null   float64\n",
      " 23  p1_dog                      1994 non-null   object \n",
      " 24  p2                          1994 non-null   object \n",
      " 25  p2_conf                     1994 non-null   float64\n",
      " 26  p2_dog                      1994 non-null   object \n",
      " 27  p3                          1994 non-null   object \n",
      " 28  p3_conf                     1994 non-null   float64\n",
      " 29  p3_dog                      1994 non-null   object \n",
      "dtypes: float64(10), int64(3), object(17)\n",
      "memory usage: 526.8+ KB\n"
     ]
    }
   ],
   "source": [
    "#checking to see data remaining\n",
    "\n",
    "arc_api.info()"
   ]
  },
  {
   "cell_type": "code",
   "execution_count": 32,
   "id": "0c6599dc",
   "metadata": {},
   "outputs": [],
   "source": [
    "#deleting rows with data \n",
    "\n",
    "arc_api = arc_api[arc_api['in_reply_to_status_id'].isnull()]"
   ]
  },
  {
   "cell_type": "code",
   "execution_count": 33,
   "id": "e12a24fd",
   "metadata": {},
   "outputs": [
    {
     "name": "stdout",
     "output_type": "stream",
     "text": [
      "<class 'pandas.core.frame.DataFrame'>\n",
      "Int64Index: 2097 entries, 0 to 2355\n",
      "Data columns (total 30 columns):\n",
      " #   Column                      Non-Null Count  Dtype  \n",
      "---  ------                      --------------  -----  \n",
      " 0   tweet_id                    2097 non-null   int64  \n",
      " 1   in_reply_to_status_id       0 non-null      float64\n",
      " 2   in_reply_to_user_id         0 non-null      float64\n",
      " 3   timestamp                   2097 non-null   object \n",
      " 4   source                      2097 non-null   object \n",
      " 5   text                        2097 non-null   object \n",
      " 6   retweeted_status_id         0 non-null      float64\n",
      " 7   retweeted_status_user_id    0 non-null      float64\n",
      " 8   retweeted_status_timestamp  0 non-null      object \n",
      " 9   expanded_urls               2094 non-null   object \n",
      " 10  rating_numerator            2097 non-null   int64  \n",
      " 11  rating_denominator          2097 non-null   int64  \n",
      " 12  name                        2097 non-null   object \n",
      " 13  doggo                       2097 non-null   object \n",
      " 14  floofer                     2097 non-null   object \n",
      " 15  pupper                      2097 non-null   object \n",
      " 16  puppo                       2097 non-null   object \n",
      " 17  retweet_count               2089 non-null   float64\n",
      " 18  favorite_count              2089 non-null   float64\n",
      " 19  jpg_url                     1971 non-null   object \n",
      " 20  img_num                     1971 non-null   float64\n",
      " 21  p1                          1971 non-null   object \n",
      " 22  p1_conf                     1971 non-null   float64\n",
      " 23  p1_dog                      1971 non-null   object \n",
      " 24  p2                          1971 non-null   object \n",
      " 25  p2_conf                     1971 non-null   float64\n",
      " 26  p2_dog                      1971 non-null   object \n",
      " 27  p3                          1971 non-null   object \n",
      " 28  p3_conf                     1971 non-null   float64\n",
      " 29  p3_dog                      1971 non-null   object \n",
      "dtypes: float64(10), int64(3), object(17)\n",
      "memory usage: 507.9+ KB\n"
     ]
    }
   ],
   "source": [
    "#Taking a look into our data\n",
    "\n",
    "arc_api.info()"
   ]
  },
  {
   "cell_type": "code",
   "execution_count": 34,
   "id": "8c5ca92a",
   "metadata": {},
   "outputs": [],
   "source": [
    "#deleting tweets without images as required\n",
    "\n",
    "arc_api = arc_api[arc_api['jpg_url'].notnull()]"
   ]
  },
  {
   "cell_type": "code",
   "execution_count": 35,
   "id": "f501da03",
   "metadata": {},
   "outputs": [],
   "source": [
    "# delete the columns related to replies and replies from our merged df.\n",
    "arc_api = arc_api.drop(['in_reply_to_status_id','in_reply_to_user_id','retweeted_status_id','retweeted_status_user_id','retweeted_status_timestamp' ],axis=1)"
   ]
  },
  {
   "cell_type": "markdown",
   "id": "5a29eea7",
   "metadata": {},
   "source": [
    "#### test"
   ]
  },
  {
   "cell_type": "code",
   "execution_count": 36,
   "id": "b8bc6fbf",
   "metadata": {},
   "outputs": [
    {
     "name": "stdout",
     "output_type": "stream",
     "text": [
      "<class 'pandas.core.frame.DataFrame'>\n",
      "Int64Index: 1971 entries, 0 to 2355\n",
      "Data columns (total 25 columns):\n",
      " #   Column              Non-Null Count  Dtype  \n",
      "---  ------              --------------  -----  \n",
      " 0   tweet_id            1971 non-null   int64  \n",
      " 1   timestamp           1971 non-null   object \n",
      " 2   source              1971 non-null   object \n",
      " 3   text                1971 non-null   object \n",
      " 4   expanded_urls       1971 non-null   object \n",
      " 5   rating_numerator    1971 non-null   int64  \n",
      " 6   rating_denominator  1971 non-null   int64  \n",
      " 7   name                1971 non-null   object \n",
      " 8   doggo               1971 non-null   object \n",
      " 9   floofer             1971 non-null   object \n",
      " 10  pupper              1971 non-null   object \n",
      " 11  puppo               1971 non-null   object \n",
      " 12  retweet_count       1963 non-null   float64\n",
      " 13  favorite_count      1963 non-null   float64\n",
      " 14  jpg_url             1971 non-null   object \n",
      " 15  img_num             1971 non-null   float64\n",
      " 16  p1                  1971 non-null   object \n",
      " 17  p1_conf             1971 non-null   float64\n",
      " 18  p1_dog              1971 non-null   object \n",
      " 19  p2                  1971 non-null   object \n",
      " 20  p2_conf             1971 non-null   float64\n",
      " 21  p2_dog              1971 non-null   object \n",
      " 22  p3                  1971 non-null   object \n",
      " 23  p3_conf             1971 non-null   float64\n",
      " 24  p3_dog              1971 non-null   object \n",
      "dtypes: float64(6), int64(3), object(16)\n",
      "memory usage: 400.4+ KB\n"
     ]
    },
    {
     "data": {
      "text/plain": [
       "Index(['tweet_id', 'timestamp', 'source', 'text', 'expanded_urls',\n",
       "       'rating_numerator', 'rating_denominator', 'name', 'doggo', 'floofer',\n",
       "       'pupper', 'puppo', 'retweet_count', 'favorite_count', 'jpg_url',\n",
       "       'img_num', 'p1', 'p1_conf', 'p1_dog', 'p2', 'p2_conf', 'p2_dog', 'p3',\n",
       "       'p3_conf', 'p3_dog'],\n",
       "      dtype='object')"
      ]
     },
     "execution_count": 36,
     "metadata": {},
     "output_type": "execute_result"
    }
   ],
   "source": [
    "#getting info into our newly cleaned df\n",
    "\n",
    "arc_api.info()\n",
    "\n",
    "#getting available columns\n",
    "\n",
    "arc_api.columns"
   ]
  },
  {
   "cell_type": "markdown",
   "id": "038fadc5",
   "metadata": {},
   "source": [
    "#### Definition: Merging dog coumns into one for better analysis\n",
    "\n",
    "##### Code"
   ]
  },
  {
   "cell_type": "code",
   "execution_count": 37,
   "id": "1c1bb8ca",
   "metadata": {},
   "outputs": [],
   "source": [
    "#merging all four dog type columns into one\n",
    "\n",
    "arc_api = pd.melt(arc_api, \n",
    "        id_vars = ['tweet_id', 'timestamp', 'source', 'text', 'expanded_urls',\n",
    "       'rating_numerator', 'rating_denominator', 'name', 'favorite_count', 'retweet_count', 'jpg_url', 'img_num',\n",
    "       'p1', 'p1_conf', 'p1_dog', 'p2', 'p2_conf', 'p2_dog', 'p3', 'p3_conf',\n",
    "       'p3_dog'], \n",
    "        value_vars = ['doggo', 'floofer', 'pupper', 'puppo'], \n",
    "        var_name = 'years', value_name = 'dog_years')"
   ]
  },
  {
   "cell_type": "code",
   "execution_count": 38,
   "id": "212e7acb",
   "metadata": {},
   "outputs": [
    {
     "data": {
      "text/html": [
       "<div>\n",
       "<style scoped>\n",
       "    .dataframe tbody tr th:only-of-type {\n",
       "        vertical-align: middle;\n",
       "    }\n",
       "\n",
       "    .dataframe tbody tr th {\n",
       "        vertical-align: top;\n",
       "    }\n",
       "\n",
       "    .dataframe thead th {\n",
       "        text-align: right;\n",
       "    }\n",
       "</style>\n",
       "<table border=\"1\" class=\"dataframe\">\n",
       "  <thead>\n",
       "    <tr style=\"text-align: right;\">\n",
       "      <th></th>\n",
       "      <th>tweet_id</th>\n",
       "      <th>timestamp</th>\n",
       "      <th>source</th>\n",
       "      <th>text</th>\n",
       "      <th>expanded_urls</th>\n",
       "      <th>rating_numerator</th>\n",
       "      <th>rating_denominator</th>\n",
       "      <th>name</th>\n",
       "      <th>favorite_count</th>\n",
       "      <th>retweet_count</th>\n",
       "      <th>jpg_url</th>\n",
       "      <th>img_num</th>\n",
       "      <th>p1</th>\n",
       "      <th>p1_conf</th>\n",
       "      <th>p1_dog</th>\n",
       "      <th>p2</th>\n",
       "      <th>p2_conf</th>\n",
       "      <th>p2_dog</th>\n",
       "      <th>p3</th>\n",
       "      <th>p3_conf</th>\n",
       "      <th>p3_dog</th>\n",
       "      <th>years</th>\n",
       "      <th>dog_years</th>\n",
       "    </tr>\n",
       "  </thead>\n",
       "  <tbody>\n",
       "    <tr>\n",
       "      <th>0</th>\n",
       "      <td>892420643555336193</td>\n",
       "      <td>2017-08-01 16:23:56 +0000</td>\n",
       "      <td>Twitter for iPhone</td>\n",
       "      <td>This is Phineas. He's a mystical boy. Only eve...</td>\n",
       "      <td>https://twitter.com/dog_rates/status/892420643...</td>\n",
       "      <td>13</td>\n",
       "      <td>10</td>\n",
       "      <td>Phineas</td>\n",
       "      <td>33683.0</td>\n",
       "      <td>6967.0</td>\n",
       "      <td>https://pbs.twimg.com/media/DGKD1-bXoAAIAUK.jpg</td>\n",
       "      <td>1.0</td>\n",
       "      <td>orange</td>\n",
       "      <td>0.097049</td>\n",
       "      <td>False</td>\n",
       "      <td>bagel</td>\n",
       "      <td>0.085851</td>\n",
       "      <td>False</td>\n",
       "      <td>banana</td>\n",
       "      <td>0.076110</td>\n",
       "      <td>False</td>\n",
       "      <td>doggo</td>\n",
       "      <td>None</td>\n",
       "    </tr>\n",
       "    <tr>\n",
       "      <th>1</th>\n",
       "      <td>892177421306343426</td>\n",
       "      <td>2017-08-01 00:17:27 +0000</td>\n",
       "      <td>Twitter for iPhone</td>\n",
       "      <td>This is Tilly. She's just checking pup on you....</td>\n",
       "      <td>https://twitter.com/dog_rates/status/892177421...</td>\n",
       "      <td>13</td>\n",
       "      <td>10</td>\n",
       "      <td>Tilly</td>\n",
       "      <td>29218.0</td>\n",
       "      <td>5271.0</td>\n",
       "      <td>https://pbs.twimg.com/media/DGGmoV4XsAAUL6n.jpg</td>\n",
       "      <td>1.0</td>\n",
       "      <td>Chihuahua</td>\n",
       "      <td>0.323581</td>\n",
       "      <td>True</td>\n",
       "      <td>Pekinese</td>\n",
       "      <td>0.090647</td>\n",
       "      <td>True</td>\n",
       "      <td>papillon</td>\n",
       "      <td>0.068957</td>\n",
       "      <td>True</td>\n",
       "      <td>doggo</td>\n",
       "      <td>None</td>\n",
       "    </tr>\n",
       "  </tbody>\n",
       "</table>\n",
       "</div>"
      ],
      "text/plain": [
       "             tweet_id                  timestamp              source  \\\n",
       "0  892420643555336193  2017-08-01 16:23:56 +0000  Twitter for iPhone   \n",
       "1  892177421306343426  2017-08-01 00:17:27 +0000  Twitter for iPhone   \n",
       "\n",
       "                                                text  \\\n",
       "0  This is Phineas. He's a mystical boy. Only eve...   \n",
       "1  This is Tilly. She's just checking pup on you....   \n",
       "\n",
       "                                       expanded_urls  rating_numerator  \\\n",
       "0  https://twitter.com/dog_rates/status/892420643...                13   \n",
       "1  https://twitter.com/dog_rates/status/892177421...                13   \n",
       "\n",
       "   rating_denominator     name  favorite_count  retweet_count  \\\n",
       "0                  10  Phineas         33683.0         6967.0   \n",
       "1                  10    Tilly         29218.0         5271.0   \n",
       "\n",
       "                                           jpg_url  img_num         p1  \\\n",
       "0  https://pbs.twimg.com/media/DGKD1-bXoAAIAUK.jpg      1.0     orange   \n",
       "1  https://pbs.twimg.com/media/DGGmoV4XsAAUL6n.jpg      1.0  Chihuahua   \n",
       "\n",
       "    p1_conf p1_dog        p2   p2_conf p2_dog        p3   p3_conf p3_dog  \\\n",
       "0  0.097049  False     bagel  0.085851  False    banana  0.076110  False   \n",
       "1  0.323581   True  Pekinese  0.090647   True  papillon  0.068957   True   \n",
       "\n",
       "   years dog_years  \n",
       "0  doggo      None  \n",
       "1  doggo      None  "
      ]
     },
     "execution_count": 38,
     "metadata": {},
     "output_type": "execute_result"
    }
   ],
   "source": [
    "#checking the merged df, we see each dog_years now has a copy of its on twweets\n",
    "\n",
    "arc_api.head(2)"
   ]
  },
  {
   "cell_type": "code",
   "execution_count": 39,
   "id": "e8f3d8a0",
   "metadata": {},
   "outputs": [
    {
     "name": "stdout",
     "output_type": "stream",
     "text": [
      "<class 'pandas.core.frame.DataFrame'>\n",
      "RangeIndex: 7884 entries, 0 to 7883\n",
      "Data columns (total 23 columns):\n",
      " #   Column              Non-Null Count  Dtype  \n",
      "---  ------              --------------  -----  \n",
      " 0   tweet_id            7884 non-null   int64  \n",
      " 1   timestamp           7884 non-null   object \n",
      " 2   source              7884 non-null   object \n",
      " 3   text                7884 non-null   object \n",
      " 4   expanded_urls       7884 non-null   object \n",
      " 5   rating_numerator    7884 non-null   int64  \n",
      " 6   rating_denominator  7884 non-null   int64  \n",
      " 7   name                7884 non-null   object \n",
      " 8   favorite_count      7852 non-null   float64\n",
      " 9   retweet_count       7852 non-null   float64\n",
      " 10  jpg_url             7884 non-null   object \n",
      " 11  img_num             7884 non-null   float64\n",
      " 12  p1                  7884 non-null   object \n",
      " 13  p1_conf             7884 non-null   float64\n",
      " 14  p1_dog              7884 non-null   object \n",
      " 15  p2                  7884 non-null   object \n",
      " 16  p2_conf             7884 non-null   float64\n",
      " 17  p2_dog              7884 non-null   object \n",
      " 18  p3                  7884 non-null   object \n",
      " 19  p3_conf             7884 non-null   float64\n",
      " 20  p3_dog              7884 non-null   object \n",
      " 21  years               7884 non-null   object \n",
      " 22  dog_years           7884 non-null   object \n",
      "dtypes: float64(6), int64(3), object(14)\n",
      "memory usage: 1.4+ MB\n"
     ]
    }
   ],
   "source": [
    "#checking our df\n",
    "\n",
    "arc_api.info()"
   ]
  },
  {
   "cell_type": "code",
   "execution_count": 40,
   "id": "48107385",
   "metadata": {},
   "outputs": [],
   "source": [
    "# We now sort the df, removing duplicates and keeping only those that contain dog_years\n",
    "\n",
    "arc_api = arc_api.sort_values('dog_years').drop_duplicates('tweet_id', keep = 'last')"
   ]
  },
  {
   "cell_type": "markdown",
   "id": "2d2726b9",
   "metadata": {},
   "source": [
    "#### test"
   ]
  },
  {
   "cell_type": "code",
   "execution_count": 41,
   "id": "e0a8d2a7",
   "metadata": {},
   "outputs": [
    {
     "name": "stdout",
     "output_type": "stream",
     "text": [
      "<class 'pandas.core.frame.DataFrame'>\n",
      "Int64Index: 1971 entries, 1895 to 6618\n",
      "Data columns (total 23 columns):\n",
      " #   Column              Non-Null Count  Dtype  \n",
      "---  ------              --------------  -----  \n",
      " 0   tweet_id            1971 non-null   int64  \n",
      " 1   timestamp           1971 non-null   object \n",
      " 2   source              1971 non-null   object \n",
      " 3   text                1971 non-null   object \n",
      " 4   expanded_urls       1971 non-null   object \n",
      " 5   rating_numerator    1971 non-null   int64  \n",
      " 6   rating_denominator  1971 non-null   int64  \n",
      " 7   name                1971 non-null   object \n",
      " 8   favorite_count      1963 non-null   float64\n",
      " 9   retweet_count       1963 non-null   float64\n",
      " 10  jpg_url             1971 non-null   object \n",
      " 11  img_num             1971 non-null   float64\n",
      " 12  p1                  1971 non-null   object \n",
      " 13  p1_conf             1971 non-null   float64\n",
      " 14  p1_dog              1971 non-null   object \n",
      " 15  p2                  1971 non-null   object \n",
      " 16  p2_conf             1971 non-null   float64\n",
      " 17  p2_dog              1971 non-null   object \n",
      " 18  p3                  1971 non-null   object \n",
      " 19  p3_conf             1971 non-null   float64\n",
      " 20  p3_dog              1971 non-null   object \n",
      " 21  years               1971 non-null   object \n",
      " 22  dog_years           1971 non-null   object \n",
      "dtypes: float64(6), int64(3), object(14)\n",
      "memory usage: 369.6+ KB\n"
     ]
    }
   ],
   "source": [
    "#here we see that a single row has now been created\n",
    "\n",
    "arc_api.info()"
   ]
  },
  {
   "cell_type": "code",
   "execution_count": 42,
   "id": "98515398",
   "metadata": {},
   "outputs": [],
   "source": [
    "# Save a copy of the dataframe to csv for future reference\n",
    "arc_api.to_csv('arc_api.csv', encoding='utf-8',index=False)"
   ]
  },
  {
   "cell_type": "markdown",
   "id": "ac64f995",
   "metadata": {},
   "source": [
    "After going through my data manually on excel, I did not find columns having two different dog_years type."
   ]
  },
  {
   "cell_type": "code",
   "execution_count": 43,
   "id": "03bef195",
   "metadata": {},
   "outputs": [],
   "source": [
    "#reading in the data ogain as arc_api\n",
    "\n",
    "arc_api = pd.read_csv('arc_api.csv')"
   ]
  },
  {
   "cell_type": "code",
   "execution_count": 44,
   "id": "7b64dbcd",
   "metadata": {},
   "outputs": [
    {
     "data": {
      "text/plain": [
       "None       1668\n",
       "pupper      209\n",
       "doggo        63\n",
       "puppo        23\n",
       "floofer       8\n",
       "Name: dog_years, dtype: int64"
      ]
     },
     "execution_count": 44,
     "metadata": {},
     "output_type": "execute_result"
    }
   ],
   "source": [
    "#taking value count of the dogs\n",
    "\n",
    "arc_api['dog_years'].value_counts()"
   ]
  },
  {
   "cell_type": "code",
   "execution_count": 45,
   "id": "8d5bb9f6",
   "metadata": {},
   "outputs": [],
   "source": [
    "#dropping the years column as it is no longer needed\n",
    "\n",
    "arc_api = arc_api.drop('years',axis=1)"
   ]
  },
  {
   "cell_type": "code",
   "execution_count": 46,
   "id": "9f0c6f2c",
   "metadata": {},
   "outputs": [
    {
     "name": "stdout",
     "output_type": "stream",
     "text": [
      "<class 'pandas.core.frame.DataFrame'>\n",
      "RangeIndex: 1971 entries, 0 to 1970\n",
      "Data columns (total 22 columns):\n",
      " #   Column              Non-Null Count  Dtype  \n",
      "---  ------              --------------  -----  \n",
      " 0   tweet_id            1971 non-null   int64  \n",
      " 1   timestamp           1971 non-null   object \n",
      " 2   source              1971 non-null   object \n",
      " 3   text                1971 non-null   object \n",
      " 4   expanded_urls       1971 non-null   object \n",
      " 5   rating_numerator    1971 non-null   int64  \n",
      " 6   rating_denominator  1971 non-null   int64  \n",
      " 7   name                1971 non-null   object \n",
      " 8   favorite_count      1963 non-null   float64\n",
      " 9   retweet_count       1963 non-null   float64\n",
      " 10  jpg_url             1971 non-null   object \n",
      " 11  img_num             1971 non-null   float64\n",
      " 12  p1                  1971 non-null   object \n",
      " 13  p1_conf             1971 non-null   float64\n",
      " 14  p1_dog              1971 non-null   bool   \n",
      " 15  p2                  1971 non-null   object \n",
      " 16  p2_conf             1971 non-null   float64\n",
      " 17  p2_dog              1971 non-null   bool   \n",
      " 18  p3                  1971 non-null   object \n",
      " 19  p3_conf             1971 non-null   float64\n",
      " 20  p3_dog              1971 non-null   bool   \n",
      " 21  dog_years           1971 non-null   object \n",
      "dtypes: bool(3), float64(6), int64(3), object(10)\n",
      "memory usage: 298.5+ KB\n"
     ]
    }
   ],
   "source": [
    "#looking at our data\n",
    "\n",
    "arc_api.info()"
   ]
  },
  {
   "cell_type": "markdown",
   "id": "d61bdcde",
   "metadata": {},
   "source": [
    "#### Definition: Creating rows for AI dog prediction and prediction percent, then removing the prediction probability columns\n",
    "\n",
    "#### Code"
   ]
  },
  {
   "cell_type": "code",
   "execution_count": 47,
   "id": "1fb3b321",
   "metadata": {},
   "outputs": [],
   "source": [
    "# empty lists to save our choice for each row in the dataset\n",
    "dog_breed = []\n",
    "prediction = []\n",
    "\n",
    "# function that iterates through prediction columns to find the best prediction for type of dog breed\n",
    "def breed_prediction(row):\n",
    "    if row['p1_dog'] == True:\n",
    "        dog_breed.append(row['p1'])\n",
    "        prediction.append(row['p1_conf'])\n",
    "    elif row['p2_dog'] == True:\n",
    "        dog_breed.append(row['p2'])\n",
    "        prediction.append(row['p2_conf'])\n",
    "    elif row['p3_dog'] == True:\n",
    "        dog_breed.append(row['p3'])\n",
    "        prediction.append(row['p3_conf'])\n",
    "    else:\n",
    "        dog_breed.append('unknown')\n",
    "        prediction.append(0)\n",
    "        \n",
    "# calling the function using pandas apply\n",
    "arc_api.apply(breed_prediction, axis=1)\n",
    "\n",
    "# adding lists created to dataframe\n",
    "arc_api['dog_breed'] = dog_breed\n",
    "arc_api['prediction'] = prediction"
   ]
  },
  {
   "cell_type": "code",
   "execution_count": 48,
   "id": "33018eef",
   "metadata": {},
   "outputs": [],
   "source": [
    "# Drop predictions and prediction probability columns\n",
    "arc_api = arc_api.drop(['img_num','p1','p1_conf','p1_dog','p2','p2_conf','p2_dog','p3','p3_conf','p3_dog'],axis=1)"
   ]
  },
  {
   "cell_type": "markdown",
   "id": "3562008e",
   "metadata": {},
   "source": [
    "#### test"
   ]
  },
  {
   "cell_type": "code",
   "execution_count": 49,
   "id": "da419303",
   "metadata": {
    "scrolled": true
   },
   "outputs": [
    {
     "data": {
      "text/html": [
       "<div>\n",
       "<style scoped>\n",
       "    .dataframe tbody tr th:only-of-type {\n",
       "        vertical-align: middle;\n",
       "    }\n",
       "\n",
       "    .dataframe tbody tr th {\n",
       "        vertical-align: top;\n",
       "    }\n",
       "\n",
       "    .dataframe thead th {\n",
       "        text-align: right;\n",
       "    }\n",
       "</style>\n",
       "<table border=\"1\" class=\"dataframe\">\n",
       "  <thead>\n",
       "    <tr style=\"text-align: right;\">\n",
       "      <th></th>\n",
       "      <th>tweet_id</th>\n",
       "      <th>timestamp</th>\n",
       "      <th>source</th>\n",
       "      <th>text</th>\n",
       "      <th>expanded_urls</th>\n",
       "      <th>rating_numerator</th>\n",
       "      <th>rating_denominator</th>\n",
       "      <th>name</th>\n",
       "      <th>favorite_count</th>\n",
       "      <th>retweet_count</th>\n",
       "      <th>jpg_url</th>\n",
       "      <th>dog_years</th>\n",
       "      <th>dog_breed</th>\n",
       "      <th>prediction</th>\n",
       "    </tr>\n",
       "  </thead>\n",
       "  <tbody>\n",
       "    <tr>\n",
       "      <th>0</th>\n",
       "      <td>667405339315146752</td>\n",
       "      <td>2015-11-19 18:13:27 +0000</td>\n",
       "      <td>Twitter for iPhone</td>\n",
       "      <td>This is Biden. Biden just tripped... 7/10 http...</td>\n",
       "      <td>https://twitter.com/dog_rates/status/667405339...</td>\n",
       "      <td>7</td>\n",
       "      <td>10</td>\n",
       "      <td>Biden</td>\n",
       "      <td>410.0</td>\n",
       "      <td>194.0</td>\n",
       "      <td>https://pbs.twimg.com/media/CUMZnmhUEAEbtis.jpg</td>\n",
       "      <td>None</td>\n",
       "      <td>Saint_Bernard</td>\n",
       "      <td>0.381377</td>\n",
       "    </tr>\n",
       "    <tr>\n",
       "      <th>1</th>\n",
       "      <td>667435689202614272</td>\n",
       "      <td>2015-11-19 20:14:03 +0000</td>\n",
       "      <td>Twitter for iPhone</td>\n",
       "      <td>Ermergerd 12/10 https://t.co/PQni2sjPsm</td>\n",
       "      <td>https://twitter.com/dog_rates/status/667435689...</td>\n",
       "      <td>12</td>\n",
       "      <td>10</td>\n",
       "      <td>None</td>\n",
       "      <td>267.0</td>\n",
       "      <td>76.0</td>\n",
       "      <td>https://pbs.twimg.com/media/CUM1OHCW4AEgGSi.jpg</td>\n",
       "      <td>None</td>\n",
       "      <td>Rottweiler</td>\n",
       "      <td>0.999091</td>\n",
       "    </tr>\n",
       "  </tbody>\n",
       "</table>\n",
       "</div>"
      ],
      "text/plain": [
       "             tweet_id                  timestamp              source  \\\n",
       "0  667405339315146752  2015-11-19 18:13:27 +0000  Twitter for iPhone   \n",
       "1  667435689202614272  2015-11-19 20:14:03 +0000  Twitter for iPhone   \n",
       "\n",
       "                                                text  \\\n",
       "0  This is Biden. Biden just tripped... 7/10 http...   \n",
       "1            Ermergerd 12/10 https://t.co/PQni2sjPsm   \n",
       "\n",
       "                                       expanded_urls  rating_numerator  \\\n",
       "0  https://twitter.com/dog_rates/status/667405339...                 7   \n",
       "1  https://twitter.com/dog_rates/status/667435689...                12   \n",
       "\n",
       "   rating_denominator   name  favorite_count  retweet_count  \\\n",
       "0                  10  Biden           410.0          194.0   \n",
       "1                  10   None           267.0           76.0   \n",
       "\n",
       "                                           jpg_url dog_years      dog_breed  \\\n",
       "0  https://pbs.twimg.com/media/CUMZnmhUEAEbtis.jpg      None  Saint_Bernard   \n",
       "1  https://pbs.twimg.com/media/CUM1OHCW4AEgGSi.jpg      None     Rottweiler   \n",
       "\n",
       "   prediction  \n",
       "0    0.381377  \n",
       "1    0.999091  "
      ]
     },
     "execution_count": 49,
     "metadata": {},
     "output_type": "execute_result"
    }
   ],
   "source": [
    "# checking the new columns added\n",
    "arc_api.head(2)"
   ]
  },
  {
   "cell_type": "code",
   "execution_count": 50,
   "id": "872aa64e",
   "metadata": {},
   "outputs": [
    {
     "name": "stdout",
     "output_type": "stream",
     "text": [
      "<class 'pandas.core.frame.DataFrame'>\n",
      "RangeIndex: 1971 entries, 0 to 1970\n",
      "Data columns (total 14 columns):\n",
      " #   Column              Non-Null Count  Dtype  \n",
      "---  ------              --------------  -----  \n",
      " 0   tweet_id            1971 non-null   int64  \n",
      " 1   timestamp           1971 non-null   object \n",
      " 2   source              1971 non-null   object \n",
      " 3   text                1971 non-null   object \n",
      " 4   expanded_urls       1971 non-null   object \n",
      " 5   rating_numerator    1971 non-null   int64  \n",
      " 6   rating_denominator  1971 non-null   int64  \n",
      " 7   name                1971 non-null   object \n",
      " 8   favorite_count      1963 non-null   float64\n",
      " 9   retweet_count       1963 non-null   float64\n",
      " 10  jpg_url             1971 non-null   object \n",
      " 11  dog_years           1971 non-null   object \n",
      " 12  dog_breed           1971 non-null   object \n",
      " 13  prediction          1971 non-null   float64\n",
      "dtypes: float64(3), int64(3), object(8)\n",
      "memory usage: 215.7+ KB\n"
     ]
    }
   ],
   "source": [
    "# Check columns have been dropped\n",
    "arc_api.info()"
   ]
  },
  {
   "cell_type": "markdown",
   "id": "da79dfd6",
   "metadata": {},
   "source": [
    "#### Definition: Cleaning up dog names column\n",
    "\n",
    "#### Code"
   ]
  },
  {
   "cell_type": "markdown",
   "id": "6d75e45d",
   "metadata": {},
   "source": [
    "We observe that most of the peculiar dog names start with lowercase, so a function that will be used to change names starting with lowercase to np.nan, will be used."
   ]
  },
  {
   "cell_type": "code",
   "execution_count": 52,
   "id": "264d6b6d",
   "metadata": {},
   "outputs": [
    {
     "data": {
      "text/plain": [
       "None       524\n",
       "a           55\n",
       "Charlie     11\n",
       "Cooper      10\n",
       "Oliver      10\n",
       "Lucy        10\n",
       "Penny        9\n",
       "Tucker       9\n",
       "Winston      8\n",
       "Sadie        8\n",
       "the          7\n",
       "Daisy        7\n",
       "Toby         7\n",
       "Lola         7\n",
       "Jax          6\n",
       "Koda         6\n",
       "Bo           6\n",
       "Stanley      6\n",
       "Bella        6\n",
       "an           6\n",
       "Louis        5\n",
       "Dave         5\n",
       "Oscar        5\n",
       "Rusty        5\n",
       "Milo         5\n",
       "Bailey       5\n",
       "Scout        5\n",
       "Chester      5\n",
       "Leo          5\n",
       "Buddy        5\n",
       "Name: name, dtype: int64"
      ]
     },
     "execution_count": 52,
     "metadata": {},
     "output_type": "execute_result"
    }
   ],
   "source": [
    "#checking to see the 30 most occuring names\n",
    "\n",
    "arc_api['name'].value_counts().head(30)"
   ]
  },
  {
   "cell_type": "code",
   "execution_count": 53,
   "id": "25007bfa",
   "metadata": {},
   "outputs": [
    {
     "data": {
      "text/html": [
       "<div>\n",
       "<style scoped>\n",
       "    .dataframe tbody tr th:only-of-type {\n",
       "        vertical-align: middle;\n",
       "    }\n",
       "\n",
       "    .dataframe tbody tr th {\n",
       "        vertical-align: top;\n",
       "    }\n",
       "\n",
       "    .dataframe thead th {\n",
       "        text-align: right;\n",
       "    }\n",
       "</style>\n",
       "<table border=\"1\" class=\"dataframe\">\n",
       "  <thead>\n",
       "    <tr style=\"text-align: right;\">\n",
       "      <th></th>\n",
       "      <th>tweet_id</th>\n",
       "      <th>timestamp</th>\n",
       "      <th>source</th>\n",
       "      <th>text</th>\n",
       "      <th>expanded_urls</th>\n",
       "      <th>rating_numerator</th>\n",
       "      <th>rating_denominator</th>\n",
       "      <th>name</th>\n",
       "      <th>favorite_count</th>\n",
       "      <th>retweet_count</th>\n",
       "      <th>jpg_url</th>\n",
       "      <th>dog_years</th>\n",
       "      <th>dog_breed</th>\n",
       "      <th>prediction</th>\n",
       "    </tr>\n",
       "  </thead>\n",
       "  <tbody>\n",
       "    <tr>\n",
       "      <th>0</th>\n",
       "      <td>667405339315146752</td>\n",
       "      <td>2015-11-19 18:13:27 +0000</td>\n",
       "      <td>Twitter for iPhone</td>\n",
       "      <td>This is Biden. Biden just tripped... 7/10 http...</td>\n",
       "      <td>https://twitter.com/dog_rates/status/667405339...</td>\n",
       "      <td>7</td>\n",
       "      <td>10</td>\n",
       "      <td>Biden</td>\n",
       "      <td>410.0</td>\n",
       "      <td>194.0</td>\n",
       "      <td>https://pbs.twimg.com/media/CUMZnmhUEAEbtis.jpg</td>\n",
       "      <td>None</td>\n",
       "      <td>Saint_Bernard</td>\n",
       "      <td>0.381377</td>\n",
       "    </tr>\n",
       "    <tr>\n",
       "      <th>1</th>\n",
       "      <td>667435689202614272</td>\n",
       "      <td>2015-11-19 20:14:03 +0000</td>\n",
       "      <td>Twitter for iPhone</td>\n",
       "      <td>Ermergerd 12/10 https://t.co/PQni2sjPsm</td>\n",
       "      <td>https://twitter.com/dog_rates/status/667435689...</td>\n",
       "      <td>12</td>\n",
       "      <td>10</td>\n",
       "      <td>None</td>\n",
       "      <td>267.0</td>\n",
       "      <td>76.0</td>\n",
       "      <td>https://pbs.twimg.com/media/CUM1OHCW4AEgGSi.jpg</td>\n",
       "      <td>None</td>\n",
       "      <td>Rottweiler</td>\n",
       "      <td>0.999091</td>\n",
       "    </tr>\n",
       "    <tr>\n",
       "      <th>2</th>\n",
       "      <td>667437278097252352</td>\n",
       "      <td>2015-11-19 20:20:22 +0000</td>\n",
       "      <td>Twitter for iPhone</td>\n",
       "      <td>Never seen this breed before. Very pointy pup....</td>\n",
       "      <td>https://twitter.com/dog_rates/status/667437278...</td>\n",
       "      <td>10</td>\n",
       "      <td>10</td>\n",
       "      <td>None</td>\n",
       "      <td>396.0</td>\n",
       "      <td>197.0</td>\n",
       "      <td>https://pbs.twimg.com/media/CUM2qWaWoAUZ06L.jpg</td>\n",
       "      <td>None</td>\n",
       "      <td>unknown</td>\n",
       "      <td>0.000000</td>\n",
       "    </tr>\n",
       "    <tr>\n",
       "      <th>3</th>\n",
       "      <td>667443425659232256</td>\n",
       "      <td>2015-11-19 20:44:47 +0000</td>\n",
       "      <td>Twitter for iPhone</td>\n",
       "      <td>Exotic dog here. Long neck. Weird paws. Obsess...</td>\n",
       "      <td>https://twitter.com/dog_rates/status/667443425...</td>\n",
       "      <td>6</td>\n",
       "      <td>10</td>\n",
       "      <td>None</td>\n",
       "      <td>681.0</td>\n",
       "      <td>486.0</td>\n",
       "      <td>https://pbs.twimg.com/media/CUM8QZwW4AAVsBl.jpg</td>\n",
       "      <td>None</td>\n",
       "      <td>unknown</td>\n",
       "      <td>0.000000</td>\n",
       "    </tr>\n",
       "    <tr>\n",
       "      <th>4</th>\n",
       "      <td>667453023279554560</td>\n",
       "      <td>2015-11-19 21:22:56 +0000</td>\n",
       "      <td>Twitter Web Client</td>\n",
       "      <td>Meet Cupcake. I would do unspeakable things fo...</td>\n",
       "      <td>https://twitter.com/dog_rates/status/667453023...</td>\n",
       "      <td>11</td>\n",
       "      <td>10</td>\n",
       "      <td>Cupcake</td>\n",
       "      <td>279.0</td>\n",
       "      <td>73.0</td>\n",
       "      <td>https://pbs.twimg.com/media/CUNE_OSUwAAdHhX.jpg</td>\n",
       "      <td>None</td>\n",
       "      <td>Labrador_retriever</td>\n",
       "      <td>0.825670</td>\n",
       "    </tr>\n",
       "  </tbody>\n",
       "</table>\n",
       "</div>"
      ],
      "text/plain": [
       "             tweet_id                  timestamp              source  \\\n",
       "0  667405339315146752  2015-11-19 18:13:27 +0000  Twitter for iPhone   \n",
       "1  667435689202614272  2015-11-19 20:14:03 +0000  Twitter for iPhone   \n",
       "2  667437278097252352  2015-11-19 20:20:22 +0000  Twitter for iPhone   \n",
       "3  667443425659232256  2015-11-19 20:44:47 +0000  Twitter for iPhone   \n",
       "4  667453023279554560  2015-11-19 21:22:56 +0000  Twitter Web Client   \n",
       "\n",
       "                                                text  \\\n",
       "0  This is Biden. Biden just tripped... 7/10 http...   \n",
       "1            Ermergerd 12/10 https://t.co/PQni2sjPsm   \n",
       "2  Never seen this breed before. Very pointy pup....   \n",
       "3  Exotic dog here. Long neck. Weird paws. Obsess...   \n",
       "4  Meet Cupcake. I would do unspeakable things fo...   \n",
       "\n",
       "                                       expanded_urls  rating_numerator  \\\n",
       "0  https://twitter.com/dog_rates/status/667405339...                 7   \n",
       "1  https://twitter.com/dog_rates/status/667435689...                12   \n",
       "2  https://twitter.com/dog_rates/status/667437278...                10   \n",
       "3  https://twitter.com/dog_rates/status/667443425...                 6   \n",
       "4  https://twitter.com/dog_rates/status/667453023...                11   \n",
       "\n",
       "   rating_denominator     name  favorite_count  retweet_count  \\\n",
       "0                  10    Biden           410.0          194.0   \n",
       "1                  10     None           267.0           76.0   \n",
       "2                  10     None           396.0          197.0   \n",
       "3                  10     None           681.0          486.0   \n",
       "4                  10  Cupcake           279.0           73.0   \n",
       "\n",
       "                                           jpg_url dog_years  \\\n",
       "0  https://pbs.twimg.com/media/CUMZnmhUEAEbtis.jpg      None   \n",
       "1  https://pbs.twimg.com/media/CUM1OHCW4AEgGSi.jpg      None   \n",
       "2  https://pbs.twimg.com/media/CUM2qWaWoAUZ06L.jpg      None   \n",
       "3  https://pbs.twimg.com/media/CUM8QZwW4AAVsBl.jpg      None   \n",
       "4  https://pbs.twimg.com/media/CUNE_OSUwAAdHhX.jpg      None   \n",
       "\n",
       "            dog_breed  prediction  \n",
       "0       Saint_Bernard    0.381377  \n",
       "1          Rottweiler    0.999091  \n",
       "2             unknown    0.000000  \n",
       "3             unknown    0.000000  \n",
       "4  Labrador_retriever    0.825670  "
      ]
     },
     "execution_count": 53,
     "metadata": {},
     "output_type": "execute_result"
    }
   ],
   "source": [
    "# We see all incorrect names have their first letter has lowercase. We will use this to change them into 'None'. \n",
    "names=[]\n",
    "\n",
    "#function iterates through name column checking if the first letter is lowercase.\n",
    "def peculiar_name(row):\n",
    "    if row['name'][0].islower() == True:\n",
    "        names.append('None')\n",
    "    else:\n",
    "        names.append(row['name'])\n",
    "arc_api.apply(peculiar_name, axis=1)\n",
    "\n",
    "\n",
    "#add names list to master dataframe and check dataframe\n",
    "arc_api['name'] = names\n",
    "arc_api.head()"
   ]
  },
  {
   "cell_type": "markdown",
   "id": "7409d43b",
   "metadata": {},
   "source": [
    "#### test"
   ]
  },
  {
   "cell_type": "code",
   "execution_count": 54,
   "id": "a392352e",
   "metadata": {},
   "outputs": [
    {
     "data": {
      "text/plain": [
       "None       622\n",
       "Charlie     11\n",
       "Cooper      10\n",
       "Lucy        10\n",
       "Oliver      10\n",
       "Tucker       9\n",
       "Penny        9\n",
       "Winston      8\n",
       "Sadie        8\n",
       "Daisy        7\n",
       "Lola         7\n",
       "Toby         7\n",
       "Jax          6\n",
       "Stanley      6\n",
       "Koda         6\n",
       "Bo           6\n",
       "Bella        6\n",
       "Buddy        5\n",
       "Oscar        5\n",
       "Bailey       5\n",
       "Scout        5\n",
       "Leo          5\n",
       "Rusty        5\n",
       "Louis        5\n",
       "Dave         5\n",
       "Chester      5\n",
       "Milo         5\n",
       "Jerry        4\n",
       "Alfie        4\n",
       "Phil         4\n",
       "Name: name, dtype: int64"
      ]
     },
     "execution_count": 54,
     "metadata": {},
     "output_type": "execute_result"
    }
   ],
   "source": [
    "#checking to see if it worked\n",
    "\n",
    "arc_api['name'].value_counts().head(30)"
   ]
  },
  {
   "cell_type": "markdown",
   "id": "057cd7ac",
   "metadata": {},
   "source": [
    "#### Definition: Working on cleaning up the outlying denominator numbers\n",
    "\n",
    "\n",
    "#### Code"
   ]
  },
  {
   "cell_type": "code",
   "execution_count": 55,
   "id": "990fee53",
   "metadata": {},
   "outputs": [
    {
     "data": {
      "text/plain": [
       "10     1954\n",
       "50        3\n",
       "11        2\n",
       "80        2\n",
       "2         1\n",
       "110       1\n",
       "90        1\n",
       "40        1\n",
       "120       1\n",
       "7         1\n",
       "70        1\n",
       "150       1\n",
       "20        1\n",
       "170       1\n",
       "Name: rating_denominator, dtype: int64"
      ]
     },
     "execution_count": 55,
     "metadata": {},
     "output_type": "execute_result"
    }
   ],
   "source": [
    "#gettig count of each distinct denominator value\n",
    "\n",
    "arc_api['rating_denominator'].value_counts()"
   ]
  },
  {
   "cell_type": "code",
   "execution_count": 56,
   "id": "4d90d1e3",
   "metadata": {},
   "outputs": [],
   "source": [
    "#creating a new df called rating\n",
    "\n",
    "denom = arc_api.drop(['timestamp','source','expanded_urls','name','favorite_count','retweet_count',\n",
    " 'jpg_url','dog_years','dog_breed','prediction'],axis=1)"
   ]
  },
  {
   "cell_type": "code",
   "execution_count": 57,
   "id": "54207025",
   "metadata": {},
   "outputs": [],
   "source": [
    "# Filter new dataframe to include only denominators not equal to expected 10\n",
    "\n",
    "denom = denom[denom['rating_denominator'] != 10]\n",
    "\n",
    "# Set the column width in pandas so the full tweet text can be read for analysis\n",
    "pd.set_option(\"display.max_colwidth\",280)"
   ]
  },
  {
   "cell_type": "code",
   "execution_count": 58,
   "id": "69980d8f",
   "metadata": {},
   "outputs": [
    {
     "data": {
      "text/html": [
       "<div>\n",
       "<style scoped>\n",
       "    .dataframe tbody tr th:only-of-type {\n",
       "        vertical-align: middle;\n",
       "    }\n",
       "\n",
       "    .dataframe tbody tr th {\n",
       "        vertical-align: top;\n",
       "    }\n",
       "\n",
       "    .dataframe thead th {\n",
       "        text-align: right;\n",
       "    }\n",
       "</style>\n",
       "<table border=\"1\" class=\"dataframe\">\n",
       "  <thead>\n",
       "    <tr style=\"text-align: right;\">\n",
       "      <th></th>\n",
       "      <th>tweet_id</th>\n",
       "      <th>text</th>\n",
       "      <th>rating_numerator</th>\n",
       "      <th>rating_denominator</th>\n",
       "    </tr>\n",
       "  </thead>\n",
       "  <tbody>\n",
       "    <tr>\n",
       "      <th>85</th>\n",
       "      <td>666287406224695296</td>\n",
       "      <td>This is an Albanian 3 1/2 legged  Episcopalian. Loves well-polished hardwood flooring. Penis on the collar. 9/10 https://t.co/d9NcXFKwLv</td>\n",
       "      <td>1</td>\n",
       "      <td>2</td>\n",
       "    </tr>\n",
       "    <tr>\n",
       "      <th>325</th>\n",
       "      <td>682962037429899265</td>\n",
       "      <td>This is Darrel. He just robbed a 7/11 and is in a high speed police chase. Was just spotted by the helicopter 10/10 https://t.co/7EsP8LmSp5</td>\n",
       "      <td>7</td>\n",
       "      <td>11</td>\n",
       "    </tr>\n",
       "    <tr>\n",
       "      <th>364</th>\n",
       "      <td>684222868335505415</td>\n",
       "      <td>Someone help the girl is being mugged. Several are distracting her while two steal her shoes. Clever puppers 121/110 https://t.co/1zfnTJLt55</td>\n",
       "      <td>121</td>\n",
       "      <td>110</td>\n",
       "    </tr>\n",
       "    <tr>\n",
       "      <th>386</th>\n",
       "      <td>710658690886586372</td>\n",
       "      <td>Here's a brigade of puppers. All look very prepared for whatever happens next. 80/80 https://t.co/0eb7R1Om12</td>\n",
       "      <td>80</td>\n",
       "      <td>80</td>\n",
       "    </tr>\n",
       "    <tr>\n",
       "      <th>399</th>\n",
       "      <td>709198395643068416</td>\n",
       "      <td>From left to right:\\nCletus, Jerome, Alejandro, Burp, &amp;amp; Titson\\nNone know where camera is. 45/50 would hug all at once https://t.co/sedre1ivTK</td>\n",
       "      <td>45</td>\n",
       "      <td>50</td>\n",
       "    </tr>\n",
       "    <tr>\n",
       "      <th>437</th>\n",
       "      <td>716439118184652801</td>\n",
       "      <td>This is Bluebert. He just saw that both #FinalFur match ups are split 50/50. Amazed af. 11/10 https://t.co/Kky1DPG4iq</td>\n",
       "      <td>50</td>\n",
       "      <td>50</td>\n",
       "    </tr>\n",
       "    <tr>\n",
       "      <th>460</th>\n",
       "      <td>713900603437621249</td>\n",
       "      <td>Happy Saturday here's 9 puppers on a bench. 99/90 good work everybody https://t.co/mpvaVxKmc1</td>\n",
       "      <td>99</td>\n",
       "      <td>90</td>\n",
       "    </tr>\n",
       "    <tr>\n",
       "      <th>512</th>\n",
       "      <td>697463031882764288</td>\n",
       "      <td>Happy Wednesday here's a bucket of pups. 44/40 would pet all at once https://t.co/HppvrYuamZ</td>\n",
       "      <td>44</td>\n",
       "      <td>40</td>\n",
       "    </tr>\n",
       "    <tr>\n",
       "      <th>575</th>\n",
       "      <td>704054845121142784</td>\n",
       "      <td>Here is a whole flock of puppers.  60/50 I'll take the lot https://t.co/9dpcw6MdWa</td>\n",
       "      <td>60</td>\n",
       "      <td>50</td>\n",
       "    </tr>\n",
       "    <tr>\n",
       "      <th>849</th>\n",
       "      <td>675853064436391936</td>\n",
       "      <td>Here we have an entire platoon of puppers. Total score: 88/80 would pet all at once https://t.co/y93p6FLvVw</td>\n",
       "      <td>88</td>\n",
       "      <td>80</td>\n",
       "    </tr>\n",
       "    <tr>\n",
       "      <th>898</th>\n",
       "      <td>677716515794329600</td>\n",
       "      <td>IT'S PUPPERGEDDON. Total of 144/120 ...I think https://t.co/ZanVtAtvIq</td>\n",
       "      <td>144</td>\n",
       "      <td>120</td>\n",
       "    </tr>\n",
       "    <tr>\n",
       "      <th>1057</th>\n",
       "      <td>810984652412424192</td>\n",
       "      <td>Meet Sam. She smiles 24/7 &amp;amp; secretly aspires to be a reindeer. \\nKeep Sam smiling by clicking and sharing this link:\\nhttps://t.co/98tB8y7y7t https://t.co/LouL5vdvxx</td>\n",
       "      <td>24</td>\n",
       "      <td>7</td>\n",
       "    </tr>\n",
       "    <tr>\n",
       "      <th>1338</th>\n",
       "      <td>820690176645140481</td>\n",
       "      <td>The floofs have been released I repeat the floofs have been released. 84/70 https://t.co/NIYC820tmd</td>\n",
       "      <td>84</td>\n",
       "      <td>70</td>\n",
       "    </tr>\n",
       "    <tr>\n",
       "      <th>1427</th>\n",
       "      <td>740373189193256964</td>\n",
       "      <td>After so many requests, this is Bretagne. She was the last surviving 9/11 search dog, and our second ever 14/10. RIP https://t.co/XAVDNDaVgQ</td>\n",
       "      <td>9</td>\n",
       "      <td>11</td>\n",
       "    </tr>\n",
       "    <tr>\n",
       "      <th>1474</th>\n",
       "      <td>758467244762497024</td>\n",
       "      <td>Why does this never happen at my front door... 165/150 https://t.co/HmwrdfEfUE</td>\n",
       "      <td>165</td>\n",
       "      <td>150</td>\n",
       "    </tr>\n",
       "    <tr>\n",
       "      <th>1621</th>\n",
       "      <td>722974582966214656</td>\n",
       "      <td>Happy 4/20 from the squad! 13/10 for all https://t.co/eV1diwds8a</td>\n",
       "      <td>4</td>\n",
       "      <td>20</td>\n",
       "    </tr>\n",
       "    <tr>\n",
       "      <th>1654</th>\n",
       "      <td>731156023742988288</td>\n",
       "      <td>Say hello to this unbelievably well behaved squad of doggos. 204/170 would try to pet all at once https://t.co/yGQI3He3xv</td>\n",
       "      <td>204</td>\n",
       "      <td>170</td>\n",
       "    </tr>\n",
       "  </tbody>\n",
       "</table>\n",
       "</div>"
      ],
      "text/plain": [
       "                tweet_id  \\\n",
       "85    666287406224695296   \n",
       "325   682962037429899265   \n",
       "364   684222868335505415   \n",
       "386   710658690886586372   \n",
       "399   709198395643068416   \n",
       "437   716439118184652801   \n",
       "460   713900603437621249   \n",
       "512   697463031882764288   \n",
       "575   704054845121142784   \n",
       "849   675853064436391936   \n",
       "898   677716515794329600   \n",
       "1057  810984652412424192   \n",
       "1338  820690176645140481   \n",
       "1427  740373189193256964   \n",
       "1474  758467244762497024   \n",
       "1621  722974582966214656   \n",
       "1654  731156023742988288   \n",
       "\n",
       "                                                                                                                                                                           text  \\\n",
       "85                                     This is an Albanian 3 1/2 legged  Episcopalian. Loves well-polished hardwood flooring. Penis on the collar. 9/10 https://t.co/d9NcXFKwLv   \n",
       "325                                 This is Darrel. He just robbed a 7/11 and is in a high speed police chase. Was just spotted by the helicopter 10/10 https://t.co/7EsP8LmSp5   \n",
       "364                                Someone help the girl is being mugged. Several are distracting her while two steal her shoes. Clever puppers 121/110 https://t.co/1zfnTJLt55   \n",
       "386                                                                Here's a brigade of puppers. All look very prepared for whatever happens next. 80/80 https://t.co/0eb7R1Om12   \n",
       "399                          From left to right:\\nCletus, Jerome, Alejandro, Burp, &amp; Titson\\nNone know where camera is. 45/50 would hug all at once https://t.co/sedre1ivTK   \n",
       "437                                                       This is Bluebert. He just saw that both #FinalFur match ups are split 50/50. Amazed af. 11/10 https://t.co/Kky1DPG4iq   \n",
       "460                                                                               Happy Saturday here's 9 puppers on a bench. 99/90 good work everybody https://t.co/mpvaVxKmc1   \n",
       "512                                                                                Happy Wednesday here's a bucket of pups. 44/40 would pet all at once https://t.co/HppvrYuamZ   \n",
       "575                                                                                          Here is a whole flock of puppers.  60/50 I'll take the lot https://t.co/9dpcw6MdWa   \n",
       "849                                                                 Here we have an entire platoon of puppers. Total score: 88/80 would pet all at once https://t.co/y93p6FLvVw   \n",
       "898                                                                                                      IT'S PUPPERGEDDON. Total of 144/120 ...I think https://t.co/ZanVtAtvIq   \n",
       "1057  Meet Sam. She smiles 24/7 &amp; secretly aspires to be a reindeer. \\nKeep Sam smiling by clicking and sharing this link:\\nhttps://t.co/98tB8y7y7t https://t.co/LouL5vdvxx   \n",
       "1338                                                                        The floofs have been released I repeat the floofs have been released. 84/70 https://t.co/NIYC820tmd   \n",
       "1427                               After so many requests, this is Bretagne. She was the last surviving 9/11 search dog, and our second ever 14/10. RIP https://t.co/XAVDNDaVgQ   \n",
       "1474                                                                                             Why does this never happen at my front door... 165/150 https://t.co/HmwrdfEfUE   \n",
       "1621                                                                                                           Happy 4/20 from the squad! 13/10 for all https://t.co/eV1diwds8a   \n",
       "1654                                                  Say hello to this unbelievably well behaved squad of doggos. 204/170 would try to pet all at once https://t.co/yGQI3He3xv   \n",
       "\n",
       "      rating_numerator  rating_denominator  \n",
       "85                   1                   2  \n",
       "325                  7                  11  \n",
       "364                121                 110  \n",
       "386                 80                  80  \n",
       "399                 45                  50  \n",
       "437                 50                  50  \n",
       "460                 99                  90  \n",
       "512                 44                  40  \n",
       "575                 60                  50  \n",
       "849                 88                  80  \n",
       "898                144                 120  \n",
       "1057                24                   7  \n",
       "1338                84                  70  \n",
       "1427                 9                  11  \n",
       "1474               165                 150  \n",
       "1621                 4                  20  \n",
       "1654               204                 170  "
      ]
     },
     "execution_count": 58,
     "metadata": {},
     "output_type": "execute_result"
    }
   ],
   "source": [
    "# checking the df\n",
    "denom"
   ]
  },
  {
   "cell_type": "code",
   "execution_count": 59,
   "id": "a927416a",
   "metadata": {},
   "outputs": [],
   "source": [
    "# Changing the values of some numerator and denominator by reading their text and getting more info.\n",
    "\n",
    "arc_api.loc[arc_api.tweet_id == 666287406224695296, 'rating_numerator'] = 5\n",
    "arc_api.loc[arc_api.tweet_id == 666287406224695296, 'rating_denominator'] = 10\n",
    "\n",
    "arc_api.loc[arc_api.tweet_id == 682962037429899265, 'rating_numerator'] = 10\n",
    "arc_api.loc[arc_api.tweet_id == 682962037429899265, 'rating_denominator'] = 10\n",
    "\n",
    "arc_api.loc[arc_api.tweet_id == 684222868335505415, 'rating_numerator'] = 11\n",
    "arc_api.loc[arc_api.tweet_id == 684222868335505415, 'rating_denominator'] = 10\n",
    "\n",
    "arc_api.loc[arc_api.tweet_id == 710658690886586372, 'rating_numerator'] = 10\n",
    "arc_api.loc[arc_api.tweet_id == 710658690886586372, 'rating_denominator'] = 10\n",
    "\n",
    "arc_api.loc[arc_api.tweet_id == 709198395643068416, 'rating_numerator'] = 9\n",
    "arc_api.loc[arc_api.tweet_id == 709198395643068416, 'rating_denominator'] = 10\n",
    "\n",
    "arc_api.loc[arc_api.tweet_id == 716439118184652801, 'rating_numerator'] = 11\n",
    "arc_api.loc[arc_api.tweet_id == 716439118184652801, 'rating_denominator'] = 10\n",
    "\n",
    "arc_api.loc[arc_api.tweet_id == 713900603437621249, 'rating_numerator'] = 11\n",
    "arc_api.loc[arc_api.tweet_id == 713900603437621249, 'rating_denominator'] = 10\n",
    "\n",
    "arc_api.loc[arc_api.tweet_id == 697463031882764288, 'rating_numerator'] = 11\n",
    "arc_api.loc[arc_api.tweet_id == 697463031882764288, 'rating_denominator'] = 10\n",
    "\n",
    "arc_api.loc[arc_api.tweet_id == 704054845121142784, 'rating_numerator'] = 12\n",
    "arc_api.loc[arc_api.tweet_id == 704054845121142784, 'rating_denominator'] = 10\n",
    "\n",
    "arc_api.loc[arc_api.tweet_id == 675853064436391936, 'rating_numerator'] = 11\n",
    "arc_api.loc[arc_api.tweet_id == 675853064436391936, 'rating_denominator'] = 10\n",
    "\n",
    "arc_api.loc[arc_api.tweet_id == 677716515794329600, 'rating_numerator'] = 12\n",
    "arc_api.loc[arc_api.tweet_id == 677716515794329600, 'rating_denominator'] = 10\n",
    "\n",
    "arc_api.loc[arc_api.tweet_id == 810984652412424192, 'rating_numerator'] = 34\n",
    "arc_api.loc[arc_api.tweet_id == 810984652412424192, 'rating_denominator'] = 10\n",
    "\n",
    "arc_api.loc[arc_api.tweet_id == 820690176645140481, 'rating_numerator'] = 12\n",
    "arc_api.loc[arc_api.tweet_id == 820690176645140481, 'rating_denominator'] = 10\n",
    "\n",
    "arc_api.loc[arc_api.tweet_id == 740373189193256964, 'rating_numerator'] = 14\n",
    "arc_api.loc[arc_api.tweet_id == 740373189193256964, 'rating_denominator'] = 10\n",
    "\n",
    "arc_api.loc[arc_api.tweet_id == 758467244762497024, 'rating_numerator'] = 11\n",
    "arc_api.loc[arc_api.tweet_id == 758467244762497024, 'rating_denominator'] = 10\n",
    "\n",
    "arc_api.loc[arc_api.tweet_id == 722974582966214656, 'rating_numerator'] = 13\n",
    "arc_api.loc[arc_api.tweet_id == 722974582966214656, 'rating_denominator'] = 10\n",
    "\n",
    "arc_api.loc[arc_api.tweet_id == 731156023742988288, 'rating_numerator'] = 12\n",
    "arc_api.loc[arc_api.tweet_id == 731156023742988288, 'rating_denominator'] = 10\n",
    "\n"
   ]
  },
  {
   "cell_type": "code",
   "execution_count": 60,
   "id": "e8233669",
   "metadata": {},
   "outputs": [
    {
     "data": {
      "text/plain": [
       "10    1971\n",
       "Name: rating_denominator, dtype: int64"
      ]
     },
     "execution_count": 60,
     "metadata": {},
     "output_type": "execute_result"
    }
   ],
   "source": [
    "#gettig count of each distinct denominator value\n",
    "\n",
    "arc_api['rating_denominator'].value_counts()"
   ]
  },
  {
   "cell_type": "code",
   "execution_count": 61,
   "id": "59a82165",
   "metadata": {},
   "outputs": [
    {
     "data": {
      "text/plain": [
       "12      450\n",
       "10      419\n",
       "11      398\n",
       "13      254\n",
       "9       150\n",
       "8        95\n",
       "7        51\n",
       "5        34\n",
       "14       34\n",
       "6        32\n",
       "3        19\n",
       "4        15\n",
       "2         9\n",
       "1         4\n",
       "26        1\n",
       "420       1\n",
       "34        1\n",
       "75        1\n",
       "0         1\n",
       "1776      1\n",
       "27        1\n",
       "Name: rating_numerator, dtype: int64"
      ]
     },
     "execution_count": 61,
     "metadata": {},
     "output_type": "execute_result"
    }
   ],
   "source": [
    "#getting count of each distinct denominator value\n",
    "\n",
    "arc_api['rating_numerator'].value_counts()"
   ]
  },
  {
   "cell_type": "code",
   "execution_count": 62,
   "id": "32721477",
   "metadata": {},
   "outputs": [],
   "source": [
    "#filtering using excel we find the rows we need to clean for the numerators. We observed some use decimals which we round up.\n",
    "arc_api.loc[arc_api.tweet_id == 680494726643068929, 'rating_numerator'] = 11  # 11.26 rounded to 11 \n",
    "arc_api.loc[arc_api.tweet_id == 786709082849828864, 'rating_numerator'] = 10  # 9.75 rounded to 10\n",
    "arc_api.loc[arc_api.tweet_id == 778027034220126208, 'rating_numerator'] = 11  # 11.27 rounded to 11"
   ]
  },
  {
   "cell_type": "markdown",
   "id": "f2859b78",
   "metadata": {},
   "source": [
    "#### test"
   ]
  },
  {
   "cell_type": "code",
   "execution_count": 63,
   "id": "1d1a338e",
   "metadata": {},
   "outputs": [
    {
     "data": {
      "text/plain": [
       "12      450\n",
       "10      420\n",
       "11      400\n",
       "13      254\n",
       "9       150\n",
       "8        95\n",
       "7        51\n",
       "5        34\n",
       "14       34\n",
       "6        32\n",
       "3        19\n",
       "4        15\n",
       "2         9\n",
       "1         4\n",
       "420       1\n",
       "34        1\n",
       "0         1\n",
       "1776      1\n",
       "Name: rating_numerator, dtype: int64"
      ]
     },
     "execution_count": 63,
     "metadata": {},
     "output_type": "execute_result"
    }
   ],
   "source": [
    "#getting count of each distinct denominator value\n",
    "\n",
    "arc_api['rating_numerator'].value_counts()"
   ]
  },
  {
   "cell_type": "markdown",
   "id": "2bec39a9",
   "metadata": {},
   "source": [
    "#### Definition: Further cleaning of some columns and changing columns to the appropriate data types.\n",
    "\n",
    "#### Code"
   ]
  },
  {
   "cell_type": "code",
   "execution_count": 64,
   "id": "ca43d4e6",
   "metadata": {},
   "outputs": [],
   "source": [
    "# Striping +0000 from timestamp column\n",
    "arc_api['timestamp'] = arc_api['timestamp'].str.strip('+0000')"
   ]
  },
  {
   "cell_type": "code",
   "execution_count": 65,
   "id": "5fd2608a",
   "metadata": {},
   "outputs": [],
   "source": [
    "# Convert data types to most suitable data type and round confidence to 2 decimal places to make easier to read\n",
    "arc_api['tweet_id'] = arc_api['tweet_id'].astype(object)\n",
    "arc_api['timestamp'] = pd.to_datetime(arc_api['timestamp'])\n",
    "arc_api['source'] = arc_api['source'].astype('category')\n",
    "arc_api['dog_years'] = arc_api['dog_years'].astype('category')\n",
    "arc_api['prediction'] = arc_api['prediction'].round(2)"
   ]
  },
  {
   "cell_type": "code",
   "execution_count": 66,
   "id": "04d2f1cf",
   "metadata": {},
   "outputs": [],
   "source": [
    "#Give empty rows the value of zero\n",
    "\n",
    "arc_api['favorite_count'] = arc_api['favorite_count'].fillna(0)\n",
    "arc_api['retweet_count'] = arc_api['retweet_count'].fillna(0)"
   ]
  },
  {
   "cell_type": "code",
   "execution_count": 67,
   "id": "53038115",
   "metadata": {},
   "outputs": [],
   "source": [
    "#Convert the valuesof favorite_count and retweet_count to integers\n",
    "\n",
    "arc_api['favorite_count'] = arc_api['favorite_count'].astype(int)\n",
    "arc_api['retweet_count'] = arc_api['retweet_count'].astype(int)"
   ]
  },
  {
   "cell_type": "markdown",
   "id": "d7622a19",
   "metadata": {},
   "source": [
    "#### Test"
   ]
  },
  {
   "cell_type": "code",
   "execution_count": 68,
   "id": "2f69012a",
   "metadata": {},
   "outputs": [
    {
     "name": "stdout",
     "output_type": "stream",
     "text": [
      "<class 'pandas.core.frame.DataFrame'>\n",
      "RangeIndex: 1971 entries, 0 to 1970\n",
      "Data columns (total 14 columns):\n",
      " #   Column              Non-Null Count  Dtype         \n",
      "---  ------              --------------  -----         \n",
      " 0   tweet_id            1971 non-null   object        \n",
      " 1   timestamp           1971 non-null   datetime64[ns]\n",
      " 2   source              1971 non-null   category      \n",
      " 3   text                1971 non-null   object        \n",
      " 4   expanded_urls       1971 non-null   object        \n",
      " 5   rating_numerator    1971 non-null   int64         \n",
      " 6   rating_denominator  1971 non-null   int64         \n",
      " 7   name                1971 non-null   object        \n",
      " 8   favorite_count      1971 non-null   int32         \n",
      " 9   retweet_count       1971 non-null   int32         \n",
      " 10  jpg_url             1971 non-null   object        \n",
      " 11  dog_years           1971 non-null   category      \n",
      " 12  dog_breed           1971 non-null   object        \n",
      " 13  prediction          1971 non-null   float64       \n",
      "dtypes: category(2), datetime64[ns](1), float64(1), int32(2), int64(2), object(6)\n",
      "memory usage: 173.7+ KB\n"
     ]
    }
   ],
   "source": [
    "#Taking a look into the data types\n",
    "\n",
    "arc_api.info()"
   ]
  },
  {
   "cell_type": "markdown",
   "id": "1df8c0a0",
   "metadata": {},
   "source": [
    "#### Definition: Changing column names and re-ordering them\n",
    "\n",
    "#### Code"
   ]
  },
  {
   "cell_type": "code",
   "execution_count": 69,
   "id": "f97c5f17",
   "metadata": {},
   "outputs": [],
   "source": [
    "# Rename columns to make easier to understand for someone not familiar with the original data sets\n",
    "arc_api = arc_api.rename(columns = {'timestamp':'tweet_time',\n",
    "                           'source': 'tweet_from',\n",
    "                           'text': 'tweet',\n",
    "                           'expanded_urls': 'tweet_link',\n",
    "                           'rating_numerator': 'dog_score',\n",
    "                           'rating_denominator':'max_score',\n",
    "                           'name': 'name',\n",
    "                           'retweet_count':'no_of_retweets',       \n",
    "                           'favorite_count':'likes',\n",
    "                           'jpg_url': 'dog_img',\n",
    "                            'dog_years': 'dog_age',\n",
    "                           'dog_breed': 'dog_breed',\n",
    "                           'prediction': 'prediction'})"
   ]
  },
  {
   "cell_type": "code",
   "execution_count": 70,
   "id": "af61c4dd",
   "metadata": {},
   "outputs": [],
   "source": [
    "#reordering data columns\n",
    "\n",
    "arc_api = arc_api[['tweet_id','tweet_time','tweet_from', 'tweet', 'tweet_link',\n",
    "                    'name', 'dog_breed', 'prediction', 'dog_age', 'dog_score', 'max_score', \n",
    "                    'likes', 'no_of_retweets', 'dog_img']]"
   ]
  },
  {
   "cell_type": "markdown",
   "id": "8d2e1246",
   "metadata": {},
   "source": [
    "#### test"
   ]
  },
  {
   "cell_type": "code",
   "execution_count": 71,
   "id": "777f299f",
   "metadata": {},
   "outputs": [
    {
     "data": {
      "text/html": [
       "<div>\n",
       "<style scoped>\n",
       "    .dataframe tbody tr th:only-of-type {\n",
       "        vertical-align: middle;\n",
       "    }\n",
       "\n",
       "    .dataframe tbody tr th {\n",
       "        vertical-align: top;\n",
       "    }\n",
       "\n",
       "    .dataframe thead th {\n",
       "        text-align: right;\n",
       "    }\n",
       "</style>\n",
       "<table border=\"1\" class=\"dataframe\">\n",
       "  <thead>\n",
       "    <tr style=\"text-align: right;\">\n",
       "      <th></th>\n",
       "      <th>tweet_id</th>\n",
       "      <th>tweet_time</th>\n",
       "      <th>tweet_from</th>\n",
       "      <th>tweet</th>\n",
       "      <th>tweet_link</th>\n",
       "      <th>name</th>\n",
       "      <th>dog_breed</th>\n",
       "      <th>prediction</th>\n",
       "      <th>dog_age</th>\n",
       "      <th>dog_score</th>\n",
       "      <th>max_score</th>\n",
       "      <th>likes</th>\n",
       "      <th>no_of_retweets</th>\n",
       "      <th>dog_img</th>\n",
       "    </tr>\n",
       "  </thead>\n",
       "  <tbody>\n",
       "    <tr>\n",
       "      <th>0</th>\n",
       "      <td>667405339315146752</td>\n",
       "      <td>2015-11-19 18:13:27</td>\n",
       "      <td>Twitter for iPhone</td>\n",
       "      <td>This is Biden. Biden just tripped... 7/10 https://t.co/3Fm9PwLju1</td>\n",
       "      <td>https://twitter.com/dog_rates/status/667405339315146752/photo/1</td>\n",
       "      <td>Biden</td>\n",
       "      <td>Saint_Bernard</td>\n",
       "      <td>0.38</td>\n",
       "      <td>None</td>\n",
       "      <td>7</td>\n",
       "      <td>10</td>\n",
       "      <td>410</td>\n",
       "      <td>194</td>\n",
       "      <td>https://pbs.twimg.com/media/CUMZnmhUEAEbtis.jpg</td>\n",
       "    </tr>\n",
       "    <tr>\n",
       "      <th>1</th>\n",
       "      <td>667435689202614272</td>\n",
       "      <td>2015-11-19 20:14:03</td>\n",
       "      <td>Twitter for iPhone</td>\n",
       "      <td>Ermergerd 12/10 https://t.co/PQni2sjPsm</td>\n",
       "      <td>https://twitter.com/dog_rates/status/667435689202614272/photo/1</td>\n",
       "      <td>None</td>\n",
       "      <td>Rottweiler</td>\n",
       "      <td>1.00</td>\n",
       "      <td>None</td>\n",
       "      <td>12</td>\n",
       "      <td>10</td>\n",
       "      <td>267</td>\n",
       "      <td>76</td>\n",
       "      <td>https://pbs.twimg.com/media/CUM1OHCW4AEgGSi.jpg</td>\n",
       "    </tr>\n",
       "  </tbody>\n",
       "</table>\n",
       "</div>"
      ],
      "text/plain": [
       "             tweet_id          tweet_time          tweet_from  \\\n",
       "0  667405339315146752 2015-11-19 18:13:27  Twitter for iPhone   \n",
       "1  667435689202614272 2015-11-19 20:14:03  Twitter for iPhone   \n",
       "\n",
       "                                                               tweet  \\\n",
       "0  This is Biden. Biden just tripped... 7/10 https://t.co/3Fm9PwLju1   \n",
       "1                            Ermergerd 12/10 https://t.co/PQni2sjPsm   \n",
       "\n",
       "                                                        tweet_link   name  \\\n",
       "0  https://twitter.com/dog_rates/status/667405339315146752/photo/1  Biden   \n",
       "1  https://twitter.com/dog_rates/status/667435689202614272/photo/1   None   \n",
       "\n",
       "       dog_breed  prediction dog_age  dog_score  max_score  likes  \\\n",
       "0  Saint_Bernard        0.38    None          7         10    410   \n",
       "1     Rottweiler        1.00    None         12         10    267   \n",
       "\n",
       "   no_of_retweets                                          dog_img  \n",
       "0             194  https://pbs.twimg.com/media/CUMZnmhUEAEbtis.jpg  \n",
       "1              76  https://pbs.twimg.com/media/CUM1OHCW4AEgGSi.jpg  "
      ]
     },
     "execution_count": 71,
     "metadata": {},
     "output_type": "execute_result"
    }
   ],
   "source": [
    "arc_api.head(2)"
   ]
  },
  {
   "cell_type": "markdown",
   "id": "54a27aad",
   "metadata": {},
   "source": [
    "## DATA STORAGE\n",
    "\n",
    "Here the final version of the cleaned data is stored in the required csv format and loaded to carry out data analysis and visualization."
   ]
  },
  {
   "cell_type": "code",
   "execution_count": null,
   "id": "2b2c8158",
   "metadata": {},
   "outputs": [],
   "source": [
    "# Save a copy of the dataframe to csv for future reference\n",
    "arc_api.to_csv('twitter_archive_master.csv', encoding='utf-8',index=False)"
   ]
  },
  {
   "cell_type": "code",
   "execution_count": 72,
   "id": "8732f344",
   "metadata": {},
   "outputs": [],
   "source": [
    "#reading in the data\n",
    "\n",
    "final = pd.read_csv('twitter_archive_master.csv')"
   ]
  },
  {
   "cell_type": "code",
   "execution_count": 73,
   "id": "7ce1959c",
   "metadata": {},
   "outputs": [
    {
     "data": {
      "text/html": [
       "<div>\n",
       "<style scoped>\n",
       "    .dataframe tbody tr th:only-of-type {\n",
       "        vertical-align: middle;\n",
       "    }\n",
       "\n",
       "    .dataframe tbody tr th {\n",
       "        vertical-align: top;\n",
       "    }\n",
       "\n",
       "    .dataframe thead th {\n",
       "        text-align: right;\n",
       "    }\n",
       "</style>\n",
       "<table border=\"1\" class=\"dataframe\">\n",
       "  <thead>\n",
       "    <tr style=\"text-align: right;\">\n",
       "      <th></th>\n",
       "      <th>tweet_id</th>\n",
       "      <th>tweet_time</th>\n",
       "      <th>tweet_from</th>\n",
       "      <th>tweet</th>\n",
       "      <th>tweet_link</th>\n",
       "      <th>name</th>\n",
       "      <th>dog_breed</th>\n",
       "      <th>prediction</th>\n",
       "      <th>dog_age</th>\n",
       "      <th>dog_score</th>\n",
       "      <th>max_score</th>\n",
       "      <th>likes</th>\n",
       "      <th>no_of_retweets</th>\n",
       "      <th>dog_img</th>\n",
       "    </tr>\n",
       "  </thead>\n",
       "  <tbody>\n",
       "    <tr>\n",
       "      <th>0</th>\n",
       "      <td>667405339315146752</td>\n",
       "      <td>2015-11-19 18:13:27</td>\n",
       "      <td>Twitter for iPhone</td>\n",
       "      <td>This is Biden. Biden just tripped... 7/10 https://t.co/3Fm9PwLju1</td>\n",
       "      <td>https://twitter.com/dog_rates/status/667405339315146752/photo/1</td>\n",
       "      <td>Biden</td>\n",
       "      <td>Saint_Bernard</td>\n",
       "      <td>0.38</td>\n",
       "      <td>None</td>\n",
       "      <td>7</td>\n",
       "      <td>10</td>\n",
       "      <td>410</td>\n",
       "      <td>194</td>\n",
       "      <td>https://pbs.twimg.com/media/CUMZnmhUEAEbtis.jpg</td>\n",
       "    </tr>\n",
       "    <tr>\n",
       "      <th>1</th>\n",
       "      <td>667435689202614272</td>\n",
       "      <td>2015-11-19 20:14:03</td>\n",
       "      <td>Twitter for iPhone</td>\n",
       "      <td>Ermergerd 12/10 https://t.co/PQni2sjPsm</td>\n",
       "      <td>https://twitter.com/dog_rates/status/667435689202614272/photo/1</td>\n",
       "      <td>None</td>\n",
       "      <td>Rottweiler</td>\n",
       "      <td>1.00</td>\n",
       "      <td>None</td>\n",
       "      <td>12</td>\n",
       "      <td>10</td>\n",
       "      <td>267</td>\n",
       "      <td>76</td>\n",
       "      <td>https://pbs.twimg.com/media/CUM1OHCW4AEgGSi.jpg</td>\n",
       "    </tr>\n",
       "  </tbody>\n",
       "</table>\n",
       "</div>"
      ],
      "text/plain": [
       "             tweet_id           tweet_time          tweet_from  \\\n",
       "0  667405339315146752  2015-11-19 18:13:27  Twitter for iPhone   \n",
       "1  667435689202614272  2015-11-19 20:14:03  Twitter for iPhone   \n",
       "\n",
       "                                                               tweet  \\\n",
       "0  This is Biden. Biden just tripped... 7/10 https://t.co/3Fm9PwLju1   \n",
       "1                            Ermergerd 12/10 https://t.co/PQni2sjPsm   \n",
       "\n",
       "                                                        tweet_link   name  \\\n",
       "0  https://twitter.com/dog_rates/status/667405339315146752/photo/1  Biden   \n",
       "1  https://twitter.com/dog_rates/status/667435689202614272/photo/1   None   \n",
       "\n",
       "       dog_breed  prediction dog_age  dog_score  max_score  likes  \\\n",
       "0  Saint_Bernard        0.38    None          7         10    410   \n",
       "1     Rottweiler        1.00    None         12         10    267   \n",
       "\n",
       "   no_of_retweets                                          dog_img  \n",
       "0             194  https://pbs.twimg.com/media/CUMZnmhUEAEbtis.jpg  \n",
       "1              76  https://pbs.twimg.com/media/CUM1OHCW4AEgGSi.jpg  "
      ]
     },
     "execution_count": 73,
     "metadata": {},
     "output_type": "execute_result"
    }
   ],
   "source": [
    "#looking into the data\n",
    "\n",
    "final.head(2)"
   ]
  },
  {
   "cell_type": "markdown",
   "id": "b0835b4f",
   "metadata": {},
   "source": [
    " "
   ]
  },
  {
   "cell_type": "markdown",
   "id": "fc995d82",
   "metadata": {},
   "source": [
    "## DATA ANALYSIS AND VISUALIZATION"
   ]
  },
  {
   "cell_type": "code",
   "execution_count": 74,
   "id": "2f6d56a6",
   "metadata": {},
   "outputs": [
    {
     "data": {
      "text/html": [
       "<div>\n",
       "<style scoped>\n",
       "    .dataframe tbody tr th:only-of-type {\n",
       "        vertical-align: middle;\n",
       "    }\n",
       "\n",
       "    .dataframe tbody tr th {\n",
       "        vertical-align: top;\n",
       "    }\n",
       "\n",
       "    .dataframe thead th {\n",
       "        text-align: right;\n",
       "    }\n",
       "</style>\n",
       "<table border=\"1\" class=\"dataframe\">\n",
       "  <thead>\n",
       "    <tr style=\"text-align: right;\">\n",
       "      <th></th>\n",
       "      <th>tweet_id</th>\n",
       "      <th>tweet_time</th>\n",
       "      <th>tweet_from</th>\n",
       "      <th>tweet</th>\n",
       "      <th>tweet_link</th>\n",
       "      <th>name</th>\n",
       "      <th>dog_breed</th>\n",
       "      <th>prediction</th>\n",
       "      <th>dog_age</th>\n",
       "      <th>dog_score</th>\n",
       "      <th>max_score</th>\n",
       "      <th>likes</th>\n",
       "      <th>no_of_retweets</th>\n",
       "      <th>dog_img</th>\n",
       "    </tr>\n",
       "  </thead>\n",
       "  <tbody>\n",
       "    <tr>\n",
       "      <th>0</th>\n",
       "      <td>667405339315146752</td>\n",
       "      <td>2015-11-19 18:13:27</td>\n",
       "      <td>Twitter for iPhone</td>\n",
       "      <td>This is Biden. Biden just tripped... 7/10 https://t.co/3Fm9PwLju1</td>\n",
       "      <td>https://twitter.com/dog_rates/status/667405339315146752/photo/1</td>\n",
       "      <td>Biden</td>\n",
       "      <td>Saint_Bernard</td>\n",
       "      <td>0.38</td>\n",
       "      <td>None</td>\n",
       "      <td>7</td>\n",
       "      <td>10</td>\n",
       "      <td>410</td>\n",
       "      <td>194</td>\n",
       "      <td>https://pbs.twimg.com/media/CUMZnmhUEAEbtis.jpg</td>\n",
       "    </tr>\n",
       "    <tr>\n",
       "      <th>1</th>\n",
       "      <td>667435689202614272</td>\n",
       "      <td>2015-11-19 20:14:03</td>\n",
       "      <td>Twitter for iPhone</td>\n",
       "      <td>Ermergerd 12/10 https://t.co/PQni2sjPsm</td>\n",
       "      <td>https://twitter.com/dog_rates/status/667435689202614272/photo/1</td>\n",
       "      <td>None</td>\n",
       "      <td>Rottweiler</td>\n",
       "      <td>1.00</td>\n",
       "      <td>None</td>\n",
       "      <td>12</td>\n",
       "      <td>10</td>\n",
       "      <td>267</td>\n",
       "      <td>76</td>\n",
       "      <td>https://pbs.twimg.com/media/CUM1OHCW4AEgGSi.jpg</td>\n",
       "    </tr>\n",
       "  </tbody>\n",
       "</table>\n",
       "</div>"
      ],
      "text/plain": [
       "             tweet_id           tweet_time          tweet_from  \\\n",
       "0  667405339315146752  2015-11-19 18:13:27  Twitter for iPhone   \n",
       "1  667435689202614272  2015-11-19 20:14:03  Twitter for iPhone   \n",
       "\n",
       "                                                               tweet  \\\n",
       "0  This is Biden. Biden just tripped... 7/10 https://t.co/3Fm9PwLju1   \n",
       "1                            Ermergerd 12/10 https://t.co/PQni2sjPsm   \n",
       "\n",
       "                                                        tweet_link   name  \\\n",
       "0  https://twitter.com/dog_rates/status/667405339315146752/photo/1  Biden   \n",
       "1  https://twitter.com/dog_rates/status/667435689202614272/photo/1   None   \n",
       "\n",
       "       dog_breed  prediction dog_age  dog_score  max_score  likes  \\\n",
       "0  Saint_Bernard        0.38    None          7         10    410   \n",
       "1     Rottweiler        1.00    None         12         10    267   \n",
       "\n",
       "   no_of_retweets                                          dog_img  \n",
       "0             194  https://pbs.twimg.com/media/CUMZnmhUEAEbtis.jpg  \n",
       "1              76  https://pbs.twimg.com/media/CUM1OHCW4AEgGSi.jpg  "
      ]
     },
     "execution_count": 74,
     "metadata": {},
     "output_type": "execute_result"
    }
   ],
   "source": [
    "final.head(2)"
   ]
  },
  {
   "cell_type": "code",
   "execution_count": 75,
   "id": "b0fccad9",
   "metadata": {},
   "outputs": [
    {
     "name": "stdout",
     "output_type": "stream",
     "text": [
      "<class 'pandas.core.frame.DataFrame'>\n",
      "RangeIndex: 1971 entries, 0 to 1970\n",
      "Data columns (total 14 columns):\n",
      " #   Column          Non-Null Count  Dtype  \n",
      "---  ------          --------------  -----  \n",
      " 0   tweet_id        1971 non-null   int64  \n",
      " 1   tweet_time      1971 non-null   object \n",
      " 2   tweet_from      1971 non-null   object \n",
      " 3   tweet           1971 non-null   object \n",
      " 4   tweet_link      1971 non-null   object \n",
      " 5   name            1971 non-null   object \n",
      " 6   dog_breed       1971 non-null   object \n",
      " 7   prediction      1971 non-null   float64\n",
      " 8   dog_age         1971 non-null   object \n",
      " 9   dog_score       1971 non-null   int64  \n",
      " 10  max_score       1971 non-null   int64  \n",
      " 11  likes           1971 non-null   int64  \n",
      " 12  no_of_retweets  1971 non-null   int64  \n",
      " 13  dog_img         1971 non-null   object \n",
      "dtypes: float64(1), int64(5), object(8)\n",
      "memory usage: 215.7+ KB\n"
     ]
    }
   ],
   "source": [
    "final.info()"
   ]
  },
  {
   "cell_type": "code",
   "execution_count": 76,
   "id": "9a214bb0",
   "metadata": {},
   "outputs": [
    {
     "data": {
      "text/html": [
       "<div>\n",
       "<style scoped>\n",
       "    .dataframe tbody tr th:only-of-type {\n",
       "        vertical-align: middle;\n",
       "    }\n",
       "\n",
       "    .dataframe tbody tr th {\n",
       "        vertical-align: top;\n",
       "    }\n",
       "\n",
       "    .dataframe thead th {\n",
       "        text-align: right;\n",
       "    }\n",
       "</style>\n",
       "<table border=\"1\" class=\"dataframe\">\n",
       "  <thead>\n",
       "    <tr style=\"text-align: right;\">\n",
       "      <th></th>\n",
       "      <th>tweet_id</th>\n",
       "      <th>prediction</th>\n",
       "      <th>dog_score</th>\n",
       "      <th>max_score</th>\n",
       "      <th>likes</th>\n",
       "      <th>no_of_retweets</th>\n",
       "    </tr>\n",
       "  </thead>\n",
       "  <tbody>\n",
       "    <tr>\n",
       "      <th>count</th>\n",
       "      <td>1.971000e+03</td>\n",
       "      <td>1971.000000</td>\n",
       "      <td>1971.000000</td>\n",
       "      <td>1971.0</td>\n",
       "      <td>1971.000000</td>\n",
       "      <td>1971.000000</td>\n",
       "    </tr>\n",
       "    <tr>\n",
       "      <th>mean</th>\n",
       "      <td>7.360418e+17</td>\n",
       "      <td>0.466301</td>\n",
       "      <td>11.657027</td>\n",
       "      <td>10.0</td>\n",
       "      <td>7691.714866</td>\n",
       "      <td>2236.727549</td>\n",
       "    </tr>\n",
       "    <tr>\n",
       "      <th>std</th>\n",
       "      <td>6.752810e+16</td>\n",
       "      <td>0.339697</td>\n",
       "      <td>40.877880</td>\n",
       "      <td>0.0</td>\n",
       "      <td>11367.307121</td>\n",
       "      <td>4011.992185</td>\n",
       "    </tr>\n",
       "    <tr>\n",
       "      <th>min</th>\n",
       "      <td>6.660209e+17</td>\n",
       "      <td>0.000000</td>\n",
       "      <td>0.000000</td>\n",
       "      <td>10.0</td>\n",
       "      <td>0.000000</td>\n",
       "      <td>0.000000</td>\n",
       "    </tr>\n",
       "    <tr>\n",
       "      <th>25%</th>\n",
       "      <td>6.758656e+17</td>\n",
       "      <td>0.140000</td>\n",
       "      <td>10.000000</td>\n",
       "      <td>10.0</td>\n",
       "      <td>1615.000000</td>\n",
       "      <td>490.000000</td>\n",
       "    </tr>\n",
       "    <tr>\n",
       "      <th>50%</th>\n",
       "      <td>7.088343e+17</td>\n",
       "      <td>0.460000</td>\n",
       "      <td>11.000000</td>\n",
       "      <td>10.0</td>\n",
       "      <td>3435.000000</td>\n",
       "      <td>1077.000000</td>\n",
       "    </tr>\n",
       "    <tr>\n",
       "      <th>75%</th>\n",
       "      <td>7.880951e+17</td>\n",
       "      <td>0.780000</td>\n",
       "      <td>12.000000</td>\n",
       "      <td>10.0</td>\n",
       "      <td>9532.000000</td>\n",
       "      <td>2553.000000</td>\n",
       "    </tr>\n",
       "    <tr>\n",
       "      <th>max</th>\n",
       "      <td>8.924206e+17</td>\n",
       "      <td>1.000000</td>\n",
       "      <td>1776.000000</td>\n",
       "      <td>10.0</td>\n",
       "      <td>144195.000000</td>\n",
       "      <td>70304.000000</td>\n",
       "    </tr>\n",
       "  </tbody>\n",
       "</table>\n",
       "</div>"
      ],
      "text/plain": [
       "           tweet_id   prediction    dog_score  max_score          likes  \\\n",
       "count  1.971000e+03  1971.000000  1971.000000     1971.0    1971.000000   \n",
       "mean   7.360418e+17     0.466301    11.657027       10.0    7691.714866   \n",
       "std    6.752810e+16     0.339697    40.877880        0.0   11367.307121   \n",
       "min    6.660209e+17     0.000000     0.000000       10.0       0.000000   \n",
       "25%    6.758656e+17     0.140000    10.000000       10.0    1615.000000   \n",
       "50%    7.088343e+17     0.460000    11.000000       10.0    3435.000000   \n",
       "75%    7.880951e+17     0.780000    12.000000       10.0    9532.000000   \n",
       "max    8.924206e+17     1.000000  1776.000000       10.0  144195.000000   \n",
       "\n",
       "       no_of_retweets  \n",
       "count     1971.000000  \n",
       "mean      2236.727549  \n",
       "std       4011.992185  \n",
       "min          0.000000  \n",
       "25%        490.000000  \n",
       "50%       1077.000000  \n",
       "75%       2553.000000  \n",
       "max      70304.000000  "
      ]
     },
     "execution_count": 76,
     "metadata": {},
     "output_type": "execute_result"
    }
   ],
   "source": [
    "#In depth look into the new data\n",
    "\n",
    "final.describe()"
   ]
  },
  {
   "cell_type": "markdown",
   "id": "30ecda5b",
   "metadata": {},
   "source": [
    "The mean prediction score is 0.47 which is not such a great score, as it implies the model was able to predict dog breeds only 47% of the time. The model will need to be trained more. We also observe that the given dog score is higher than the max score. Average number of likes is given as 7692 and retweets is given at 2237, meaning these pictures have pretty high engagement."
   ]
  },
  {
   "cell_type": "code",
   "execution_count": 77,
   "id": "5504ef3f",
   "metadata": {},
   "outputs": [],
   "source": [
    "#removing all the unknown dog data\n",
    "\n",
    "final.loc[final['dog_breed'] == 'unknown', 'dog_breed'] = None"
   ]
  },
  {
   "cell_type": "code",
   "execution_count": 78,
   "id": "739a9631",
   "metadata": {},
   "outputs": [
    {
     "data": {
      "text/plain": [
       "1666"
      ]
     },
     "execution_count": 78,
     "metadata": {},
     "output_type": "execute_result"
    }
   ],
   "source": [
    "# Total number of observations used for analysis and visualizations\n",
    "\n",
    "final['dog_breed'].count()"
   ]
  },
  {
   "cell_type": "code",
   "execution_count": 79,
   "id": "f0152abb",
   "metadata": {},
   "outputs": [
    {
     "data": {
      "text/plain": [
       "golden_retriever      156\n",
       "Labrador_retriever    106\n",
       "Pembroke               94\n",
       "Chihuahua              90\n",
       "pug                    62\n",
       "toy_poodle             50\n",
       "chow                   48\n",
       "Samoyed                42\n",
       "Pomeranian             41\n",
       "malamute               33\n",
       "Name: dog_breed, dtype: int64"
      ]
     },
     "execution_count": 79,
     "metadata": {},
     "output_type": "execute_result"
    }
   ],
   "source": [
    "# count of dog breeds by breed\n",
    "\n",
    "x = final['dog_breed'].value_counts().nlargest(10)\n",
    "x"
   ]
  },
  {
   "cell_type": "code",
   "execution_count": 80,
   "id": "025cfa7b",
   "metadata": {},
   "outputs": [
    {
     "data": {
      "image/png": "[encoded data removed]",
      "text/plain": [
       "<Figure size 720x360 with 1 Axes>"
      ]
     },
     "metadata": {
      "needs_background": "light"
     },
     "output_type": "display_data"
    }
   ],
   "source": [
    "#Horizontal bar chart to show top 15 breeds\n",
    "\n",
    "fig = plt.figure(figsize=(10,5))\n",
    "final.groupby('dog_breed').count()['dog_score'].sort_values(ascending=False).nlargest(20).plot(kind='barh')\n",
    "plt.title(\"Top 20 Breeds of Dog Tweeted\",fontsize=20)\n",
    "plt.ylabel(\"Dog Breed\")\n",
    "plt.xlabel(\"Number of Tweets\"); \n",
    "\n"
   ]
  },
  {
   "cell_type": "code",
   "execution_count": 105,
   "id": "1a0ad4e4",
   "metadata": {},
   "outputs": [
    {
     "data": {
      "text/html": [
       "<div>\n",
       "<style scoped>\n",
       "    .dataframe tbody tr th:only-of-type {\n",
       "        vertical-align: middle;\n",
       "    }\n",
       "\n",
       "    .dataframe tbody tr th {\n",
       "        vertical-align: top;\n",
       "    }\n",
       "\n",
       "    .dataframe thead th {\n",
       "        text-align: right;\n",
       "    }\n",
       "</style>\n",
       "<table border=\"1\" class=\"dataframe\">\n",
       "  <thead>\n",
       "    <tr style=\"text-align: right;\">\n",
       "      <th></th>\n",
       "      <th>count</th>\n",
       "      <th>mean</th>\n",
       "      <th>std</th>\n",
       "      <th>min</th>\n",
       "      <th>25%</th>\n",
       "      <th>50%</th>\n",
       "      <th>75%</th>\n",
       "      <th>max</th>\n",
       "    </tr>\n",
       "    <tr>\n",
       "      <th>dog_breed</th>\n",
       "      <th></th>\n",
       "      <th></th>\n",
       "      <th></th>\n",
       "      <th></th>\n",
       "      <th></th>\n",
       "      <th></th>\n",
       "      <th></th>\n",
       "      <th></th>\n",
       "    </tr>\n",
       "  </thead>\n",
       "  <tbody>\n",
       "    <tr>\n",
       "      <th>Afghan_hound</th>\n",
       "      <td>3.0</td>\n",
       "      <td>9.666667</td>\n",
       "      <td>5.773503</td>\n",
       "      <td>3.0</td>\n",
       "      <td>8.00</td>\n",
       "      <td>13.0</td>\n",
       "      <td>13.00</td>\n",
       "      <td>13.0</td>\n",
       "    </tr>\n",
       "    <tr>\n",
       "      <th>Airedale</th>\n",
       "      <td>12.0</td>\n",
       "      <td>9.833333</td>\n",
       "      <td>2.249579</td>\n",
       "      <td>6.0</td>\n",
       "      <td>9.25</td>\n",
       "      <td>10.5</td>\n",
       "      <td>11.25</td>\n",
       "      <td>12.0</td>\n",
       "    </tr>\n",
       "    <tr>\n",
       "      <th>American_Staffordshire_terrier</th>\n",
       "      <td>16.0</td>\n",
       "      <td>10.312500</td>\n",
       "      <td>3.070695</td>\n",
       "      <td>0.0</td>\n",
       "      <td>10.00</td>\n",
       "      <td>11.0</td>\n",
       "      <td>12.00</td>\n",
       "      <td>13.0</td>\n",
       "    </tr>\n",
       "    <tr>\n",
       "      <th>Appenzeller</th>\n",
       "      <td>2.0</td>\n",
       "      <td>11.000000</td>\n",
       "      <td>2.828427</td>\n",
       "      <td>9.0</td>\n",
       "      <td>10.00</td>\n",
       "      <td>11.0</td>\n",
       "      <td>12.00</td>\n",
       "      <td>13.0</td>\n",
       "    </tr>\n",
       "    <tr>\n",
       "      <th>Australian_terrier</th>\n",
       "      <td>2.0</td>\n",
       "      <td>11.500000</td>\n",
       "      <td>2.121320</td>\n",
       "      <td>10.0</td>\n",
       "      <td>10.75</td>\n",
       "      <td>11.5</td>\n",
       "      <td>12.25</td>\n",
       "      <td>13.0</td>\n",
       "    </tr>\n",
       "    <tr>\n",
       "      <th>Bedlington_terrier</th>\n",
       "      <td>6.0</td>\n",
       "      <td>10.333333</td>\n",
       "      <td>3.141125</td>\n",
       "      <td>6.0</td>\n",
       "      <td>8.25</td>\n",
       "      <td>10.5</td>\n",
       "      <td>12.75</td>\n",
       "      <td>14.0</td>\n",
       "    </tr>\n",
       "    <tr>\n",
       "      <th>Bernese_mountain_dog</th>\n",
       "      <td>11.0</td>\n",
       "      <td>11.272727</td>\n",
       "      <td>1.103713</td>\n",
       "      <td>10.0</td>\n",
       "      <td>10.00</td>\n",
       "      <td>12.0</td>\n",
       "      <td>12.00</td>\n",
       "      <td>13.0</td>\n",
       "    </tr>\n",
       "    <tr>\n",
       "      <th>Blenheim_spaniel</th>\n",
       "      <td>10.0</td>\n",
       "      <td>11.100000</td>\n",
       "      <td>1.100505</td>\n",
       "      <td>9.0</td>\n",
       "      <td>10.25</td>\n",
       "      <td>11.5</td>\n",
       "      <td>12.00</td>\n",
       "      <td>12.0</td>\n",
       "    </tr>\n",
       "    <tr>\n",
       "      <th>Border_collie</th>\n",
       "      <td>12.0</td>\n",
       "      <td>10.583333</td>\n",
       "      <td>2.503028</td>\n",
       "      <td>4.0</td>\n",
       "      <td>9.75</td>\n",
       "      <td>11.5</td>\n",
       "      <td>12.00</td>\n",
       "      <td>13.0</td>\n",
       "    </tr>\n",
       "    <tr>\n",
       "      <th>Border_terrier</th>\n",
       "      <td>7.0</td>\n",
       "      <td>12.142857</td>\n",
       "      <td>0.690066</td>\n",
       "      <td>11.0</td>\n",
       "      <td>12.00</td>\n",
       "      <td>12.0</td>\n",
       "      <td>12.50</td>\n",
       "      <td>13.0</td>\n",
       "    </tr>\n",
       "    <tr>\n",
       "      <th>Boston_bull</th>\n",
       "      <td>12.0</td>\n",
       "      <td>9.416667</td>\n",
       "      <td>2.108784</td>\n",
       "      <td>5.0</td>\n",
       "      <td>8.75</td>\n",
       "      <td>10.0</td>\n",
       "      <td>11.00</td>\n",
       "      <td>12.0</td>\n",
       "    </tr>\n",
       "    <tr>\n",
       "      <th>Bouvier_des_Flandres</th>\n",
       "      <td>1.0</td>\n",
       "      <td>13.000000</td>\n",
       "      <td>NaN</td>\n",
       "      <td>13.0</td>\n",
       "      <td>13.00</td>\n",
       "      <td>13.0</td>\n",
       "      <td>13.00</td>\n",
       "      <td>13.0</td>\n",
       "    </tr>\n",
       "    <tr>\n",
       "      <th>Brabancon_griffon</th>\n",
       "      <td>3.0</td>\n",
       "      <td>10.000000</td>\n",
       "      <td>0.000000</td>\n",
       "      <td>10.0</td>\n",
       "      <td>10.00</td>\n",
       "      <td>10.0</td>\n",
       "      <td>10.00</td>\n",
       "      <td>10.0</td>\n",
       "    </tr>\n",
       "    <tr>\n",
       "      <th>Brittany_spaniel</th>\n",
       "      <td>8.0</td>\n",
       "      <td>10.375000</td>\n",
       "      <td>1.685018</td>\n",
       "      <td>7.0</td>\n",
       "      <td>9.75</td>\n",
       "      <td>11.0</td>\n",
       "      <td>11.25</td>\n",
       "      <td>12.0</td>\n",
       "    </tr>\n",
       "    <tr>\n",
       "      <th>Cardigan</th>\n",
       "      <td>21.0</td>\n",
       "      <td>11.142857</td>\n",
       "      <td>1.590148</td>\n",
       "      <td>7.0</td>\n",
       "      <td>10.00</td>\n",
       "      <td>11.0</td>\n",
       "      <td>12.00</td>\n",
       "      <td>13.0</td>\n",
       "    </tr>\n",
       "    <tr>\n",
       "      <th>Chesapeake_Bay_retriever</th>\n",
       "      <td>31.0</td>\n",
       "      <td>10.838710</td>\n",
       "      <td>1.439833</td>\n",
       "      <td>8.0</td>\n",
       "      <td>10.00</td>\n",
       "      <td>10.0</td>\n",
       "      <td>12.00</td>\n",
       "      <td>13.0</td>\n",
       "    </tr>\n",
       "    <tr>\n",
       "      <th>Chihuahua</th>\n",
       "      <td>90.0</td>\n",
       "      <td>10.533333</td>\n",
       "      <td>2.056505</td>\n",
       "      <td>3.0</td>\n",
       "      <td>10.00</td>\n",
       "      <td>11.0</td>\n",
       "      <td>12.00</td>\n",
       "      <td>14.0</td>\n",
       "    </tr>\n",
       "    <tr>\n",
       "      <th>Dandie_Dinmont</th>\n",
       "      <td>7.0</td>\n",
       "      <td>9.571429</td>\n",
       "      <td>3.258688</td>\n",
       "      <td>3.0</td>\n",
       "      <td>9.00</td>\n",
       "      <td>11.0</td>\n",
       "      <td>11.00</td>\n",
       "      <td>13.0</td>\n",
       "    </tr>\n",
       "    <tr>\n",
       "      <th>Doberman</th>\n",
       "      <td>9.0</td>\n",
       "      <td>11.333333</td>\n",
       "      <td>1.000000</td>\n",
       "      <td>10.0</td>\n",
       "      <td>11.00</td>\n",
       "      <td>11.0</td>\n",
       "      <td>12.00</td>\n",
       "      <td>13.0</td>\n",
       "    </tr>\n",
       "    <tr>\n",
       "      <th>English_setter</th>\n",
       "      <td>8.0</td>\n",
       "      <td>9.875000</td>\n",
       "      <td>1.726888</td>\n",
       "      <td>8.0</td>\n",
       "      <td>8.75</td>\n",
       "      <td>9.5</td>\n",
       "      <td>11.00</td>\n",
       "      <td>13.0</td>\n",
       "    </tr>\n",
       "  </tbody>\n",
       "</table>\n",
       "</div>"
      ],
      "text/plain": [
       "                                count       mean       std   min    25%   50%  \\\n",
       "dog_breed                                                                       \n",
       "Afghan_hound                      3.0   9.666667  5.773503   3.0   8.00  13.0   \n",
       "Airedale                         12.0   9.833333  2.249579   6.0   9.25  10.5   \n",
       "American_Staffordshire_terrier   16.0  10.312500  3.070695   0.0  10.00  11.0   \n",
       "Appenzeller                       2.0  11.000000  2.828427   9.0  10.00  11.0   \n",
       "Australian_terrier                2.0  11.500000  2.121320  10.0  10.75  11.5   \n",
       "Bedlington_terrier                6.0  10.333333  3.141125   6.0   8.25  10.5   \n",
       "Bernese_mountain_dog             11.0  11.272727  1.103713  10.0  10.00  12.0   \n",
       "Blenheim_spaniel                 10.0  11.100000  1.100505   9.0  10.25  11.5   \n",
       "Border_collie                    12.0  10.583333  2.503028   4.0   9.75  11.5   \n",
       "Border_terrier                    7.0  12.142857  0.690066  11.0  12.00  12.0   \n",
       "Boston_bull                      12.0   9.416667  2.108784   5.0   8.75  10.0   \n",
       "Bouvier_des_Flandres              1.0  13.000000       NaN  13.0  13.00  13.0   \n",
       "Brabancon_griffon                 3.0  10.000000  0.000000  10.0  10.00  10.0   \n",
       "Brittany_spaniel                  8.0  10.375000  1.685018   7.0   9.75  11.0   \n",
       "Cardigan                         21.0  11.142857  1.590148   7.0  10.00  11.0   \n",
       "Chesapeake_Bay_retriever         31.0  10.838710  1.439833   8.0  10.00  10.0   \n",
       "Chihuahua                        90.0  10.533333  2.056505   3.0  10.00  11.0   \n",
       "Dandie_Dinmont                    7.0   9.571429  3.258688   3.0   9.00  11.0   \n",
       "Doberman                          9.0  11.333333  1.000000  10.0  11.00  11.0   \n",
       "English_setter                    8.0   9.875000  1.726888   8.0   8.75   9.5   \n",
       "\n",
       "                                  75%   max  \n",
       "dog_breed                                    \n",
       "Afghan_hound                    13.00  13.0  \n",
       "Airedale                        11.25  12.0  \n",
       "American_Staffordshire_terrier  12.00  13.0  \n",
       "Appenzeller                     12.00  13.0  \n",
       "Australian_terrier              12.25  13.0  \n",
       "Bedlington_terrier              12.75  14.0  \n",
       "Bernese_mountain_dog            12.00  13.0  \n",
       "Blenheim_spaniel                12.00  12.0  \n",
       "Border_collie                   12.00  13.0  \n",
       "Border_terrier                  12.50  13.0  \n",
       "Boston_bull                     11.00  12.0  \n",
       "Bouvier_des_Flandres            13.00  13.0  \n",
       "Brabancon_griffon               10.00  10.0  \n",
       "Brittany_spaniel                11.25  12.0  \n",
       "Cardigan                        12.00  13.0  \n",
       "Chesapeake_Bay_retriever        12.00  13.0  \n",
       "Chihuahua                       12.00  14.0  \n",
       "Dandie_Dinmont                  11.00  13.0  \n",
       "Doberman                        12.00  13.0  \n",
       "English_setter                  11.00  13.0  "
      ]
     },
     "execution_count": 105,
     "metadata": {},
     "output_type": "execute_result"
    }
   ],
   "source": [
    "#grouping scores by breed and have a look at some statistics.\n",
    "\n",
    "final.groupby('dog_breed')['dog_score'].describe().head(20)"
   ]
  },
  {
   "cell_type": "code",
   "execution_count": 82,
   "id": "98552433",
   "metadata": {},
   "outputs": [],
   "source": [
    "#Grouping dog breeds according to accumulated likes\n",
    "\n",
    "s = final.groupby('dog_breed')['likes'].describe().head(20)"
   ]
  },
  {
   "cell_type": "code",
   "execution_count": 83,
   "id": "ba4f1d12",
   "metadata": {},
   "outputs": [
    {
     "data": {
      "text/plain": [
       "dog_breed\n",
       "golden_retriever      156\n",
       "Labrador_retriever    106\n",
       "Pembroke               94\n",
       "Chihuahua              90\n",
       "pug                    62\n",
       "toy_poodle             50\n",
       "chow                   48\n",
       "Samoyed                42\n",
       "Pomeranian             41\n",
       "malamute               33\n",
       "Name: likes, dtype: int64"
      ]
     },
     "execution_count": 83,
     "metadata": {},
     "output_type": "execute_result"
    }
   ],
   "source": [
    "#Grouping dog breeds according to accumulated likes\n",
    "\n",
    "final.groupby('dog_breed').count()['likes'].nlargest(10)"
   ]
  },
  {
   "cell_type": "code",
   "execution_count": 84,
   "id": "1b85b8b2",
   "metadata": {},
   "outputs": [],
   "source": [
    "#Grouping dog breeds according to accumulated likes, dog_score, no_of_retweets\n",
    "\n",
    "s = final.groupby('dog_breed')['no_of_retweets'].mean().nlargest(20)\n",
    "t = final.groupby('dog_breed')['likes'].mean().nlargest(20)\n",
    "u = final.groupby('dog_breed')['dog_score'].mean().nlargest(20)"
   ]
  },
  {
   "cell_type": "code",
   "execution_count": 85,
   "id": "ea6b42c1",
   "metadata": {
    "scrolled": true
   },
   "outputs": [
    {
     "data": {
      "text/plain": [
       "Text(0.5, 1.0, 'Dog Breeds With The Most Retweets')"
      ]
     },
     "execution_count": 85,
     "metadata": {},
     "output_type": "execute_result"
    },
    {
     "data": {
      "image/png": "[encoded data removed]",
      "text/plain": [
       "<Figure size 1080x504 with 1 Axes>"
      ]
     },
     "metadata": {
      "needs_background": "light"
     },
     "output_type": "display_data"
    }
   ],
   "source": [
    "#graph of dog breed and retweets\n",
    "\n",
    "plt.figure(figsize=(15,7))\n",
    "s.plot(kind='bar');\n",
    "plt.ylabel('No of Retweets')\n",
    "plt.xlabel('Dog Breeds')\n",
    "plt.title('Dog Breeds With The Most Retweets')\n"
   ]
  },
  {
   "cell_type": "code",
   "execution_count": 86,
   "id": "1ff53c15",
   "metadata": {
    "scrolled": true
   },
   "outputs": [
    {
     "data": {
      "image/png": "[encoded data removed]",
      "text/plain": [
       "<Figure size 1080x504 with 1 Axes>"
      ]
     },
     "metadata": {
      "needs_background": "light"
     },
     "output_type": "display_data"
    }
   ],
   "source": [
    "#graph of dog breed and likes\n",
    "\n",
    "plt.figure(figsize=(15,7))\n",
    "t.plot(kind='bar');\n",
    "plt.ylabel('No of Likes')\n",
    "plt.xlabel('Dog Breeds')\n",
    "plt.title('Dog Breeds With The Most Likes')\n",
    "\n",
    "plt.show()"
   ]
  },
  {
   "cell_type": "code",
   "execution_count": 87,
   "id": "41ed4f5d",
   "metadata": {},
   "outputs": [
    {
     "data": {
      "image/png": "[encoded data removed]",
      "text/plain": [
       "<Figure size 1080x504 with 1 Axes>"
      ]
     },
     "metadata": {
      "needs_background": "light"
     },
     "output_type": "display_data"
    }
   ],
   "source": [
    "#graph of dog breed and highest scores\n",
    "\n",
    "plt.figure(figsize=(15,7))\n",
    "u.plot(kind='bar');\n",
    "plt.ylabel('Scores')\n",
    "plt.xlabel('Dog Breeds')\n",
    "plt.title('Dog Breeds With The Highest Scores')\n",
    "\n",
    "plt.show()"
   ]
  },
  {
   "cell_type": "code",
   "execution_count": 88,
   "id": "715e86f8",
   "metadata": {},
   "outputs": [
    {
     "data": {
      "text/plain": [
       "dog_breed\n",
       "Bouvier_des_Flandres    13.000000\n",
       "Saluki                  12.500000\n",
       "briard                  12.333333\n",
       "Tibetan_mastiff         12.250000\n",
       "Border_terrier          12.142857\n",
       "silky_terrier           12.000000\n",
       "standard_schnauzer      12.000000\n",
       "Gordon_setter           11.750000\n",
       "Irish_setter            11.750000\n",
       "golden_retriever        11.711538\n",
       "Name: dog_score, dtype: float64"
      ]
     },
     "execution_count": 88,
     "metadata": {},
     "output_type": "execute_result"
    }
   ],
   "source": [
    "#Let's look at the top scores by breed.\n",
    "\n",
    "final.groupby('dog_breed')['dog_score'].mean().sort_values(ascending=False).nlargest(10)"
   ]
  },
  {
   "cell_type": "code",
   "execution_count": 89,
   "id": "b8a77700",
   "metadata": {},
   "outputs": [
    {
     "data": {
      "text/plain": [
       "dog_breed\n",
       "Bedlington_terrier         21453.666667\n",
       "Saluki                     20720.250000\n",
       "French_bulldog             16903.387097\n",
       "Bouvier_des_Flandres       15294.000000\n",
       "Afghan_hound               14653.333333\n",
       "black-and-tan_coonhound    14616.000000\n",
       "flat-coated_retriever      14469.000000\n",
       "Irish_water_spaniel        13918.000000\n",
       "whippet                    12650.454545\n",
       "Leonberg                   12609.333333\n",
       "Name: likes, dtype: float64"
      ]
     },
     "execution_count": 89,
     "metadata": {},
     "output_type": "execute_result"
    }
   ],
   "source": [
    "#10 most liked breeds\n",
    "\n",
    "final.groupby('dog_breed')['likes'].mean().sort_values(ascending=False).nlargest(10)"
   ]
  },
  {
   "cell_type": "code",
   "execution_count": 90,
   "id": "9e0b6460",
   "metadata": {},
   "outputs": [
    {
     "data": {
      "text/plain": [
       "Twitter for iPhone    1932\n",
       "Twitter Web Client      28\n",
       "TweetDeck               11\n",
       "Name: tweet_from, dtype: int64"
      ]
     },
     "execution_count": 90,
     "metadata": {},
     "output_type": "execute_result"
    }
   ],
   "source": [
    "#count of tweets from sources\n",
    "a = final['tweet_from'].value_counts()\n",
    "a"
   ]
  },
  {
   "cell_type": "code",
   "execution_count": 91,
   "id": "2b076216",
   "metadata": {},
   "outputs": [
    {
     "data": {
      "image/png": "[encoded data removed]",
      "text/plain": [
       "<Figure size 1008x504 with 1 Axes>"
      ]
     },
     "metadata": {},
     "output_type": "display_data"
    }
   ],
   "source": [
    "plt.figure(figsize=(14,7))\n",
    "plt.pie(a, labels=['Twitter for iPhone', 'Web Client', 'TweetDeck'], autopct='%.0f%%');\n",
    "plt.title('Piechart For Twitter Sources')\n",
    "plt.show()"
   ]
  },
  {
   "cell_type": "code",
   "execution_count": 93,
   "id": "86e55ab9",
   "metadata": {},
   "outputs": [
    {
     "data": {
      "text/plain": [
       "<AxesSubplot:xlabel='dog_score', ylabel='likes'>"
      ]
     },
     "execution_count": 93,
     "metadata": {},
     "output_type": "execute_result"
    },
    {
     "data": {
      "image/png": "[encoded data removed]",
      "text/plain": [
       "<Figure size 1080x576 with 1 Axes>"
      ]
     },
     "metadata": {
      "needs_background": "light"
     },
     "output_type": "display_data"
    }
   ],
   "source": [
    "#checking relationship between scores and likes\n",
    "plt.figure(figsize=(15,8))\n",
    "sns.barplot(\n",
    "    x=\"dog_score\", y=\"likes\",\n",
    "    data=final\n",
    ")\n"
   ]
  },
  {
   "cell_type": "code",
   "execution_count": 94,
   "id": "950ca122",
   "metadata": {},
   "outputs": [
    {
     "data": {
      "image/png": "[encoded data removed]",
      "text/plain": [
       "<Figure size 1080x576 with 1 Axes>"
      ]
     },
     "metadata": {
      "needs_background": "light"
     },
     "output_type": "display_data"
    }
   ],
   "source": [
    "##checking relationship between no_of_retweets and likes\n",
    "plt.figure(figsize=(15,8))\n",
    "sns.regplot(x='no_of_retweets', y='likes', data=final)\n",
    "plt.title('no_of_retweets vs likes')\n",
    "\n",
    "plt.show()"
   ]
  },
  {
   "cell_type": "code",
   "execution_count": 95,
   "id": "d9825209",
   "metadata": {},
   "outputs": [
    {
     "data": {
      "text/plain": [
       "dog_breed\n",
       "komondor                   0.970000\n",
       "clumber                    0.950000\n",
       "keeshond                   0.845000\n",
       "bull_mastiff               0.816000\n",
       "Brittany_spaniel           0.773750\n",
       "Bernese_mountain_dog       0.767273\n",
       "Samoyed                    0.717857\n",
       "Pomeranian                 0.699268\n",
       "Blenheim_spaniel           0.699000\n",
       "German_shepherd            0.695238\n",
       "black-and-tan_coonhound    0.690000\n",
       "Leonberg                   0.683333\n",
       "Tibetan_mastiff            0.682500\n",
       "Pembroke                   0.680745\n",
       "pug                        0.668065\n",
       "flat-coated_retriever      0.663750\n",
       "French_bulldog             0.662581\n",
       "vizsla                     0.661538\n",
       "Japanese_spaniel           0.660000\n",
       "Doberman                   0.655556\n",
       "Name: prediction, dtype: float64"
      ]
     },
     "execution_count": 95,
     "metadata": {},
     "output_type": "execute_result"
    }
   ],
   "source": [
    "#getting breeds that were most rightly predicted\n",
    "\n",
    "v = final.groupby('dog_breed')['prediction'].mean().nlargest(20)\n",
    "v"
   ]
  },
  {
   "cell_type": "code",
   "execution_count": 96,
   "id": "70ee9c63",
   "metadata": {},
   "outputs": [
    {
     "data": {
      "image/png": "[encoded data removed]",
      "text/plain": [
       "<Figure size 936x432 with 1 Axes>"
      ]
     },
     "metadata": {
      "needs_background": "light"
     },
     "output_type": "display_data"
    }
   ],
   "source": [
    "plt.figure(figsize=(13,6))\n",
    "v.plot(kind='bar');\n",
    "plt.ylabel('Scores')\n",
    "plt.xlabel('Dog Breeds')\n",
    "plt.title('Dog Breeds That Are Easily Identified By AI')\n",
    "\n",
    "plt.show()"
   ]
  },
  {
   "cell_type": "code",
   "execution_count": 97,
   "id": "d01e27eb",
   "metadata": {},
   "outputs": [
    {
     "data": {
      "text/plain": [
       "dog_breed\n",
       "Irish_wolfhound            0.060000\n",
       "Bouvier_des_Flandres       0.080000\n",
       "Scottish_deerhound         0.142500\n",
       "Norwich_terrier            0.246000\n",
       "cairn                      0.263333\n",
       "Scotch_terrier             0.270000\n",
       "Norfolk_terrier            0.271667\n",
       "standard_poodle            0.272727\n",
       "Bedlington_terrier         0.286667\n",
       "Mexican_hairless           0.300000\n",
       "groenendael                0.300000\n",
       "Australian_terrier         0.310000\n",
       "wire-haired_fox_terrier    0.310000\n",
       "silky_terrier              0.320000\n",
       "toy_terrier                0.323333\n",
       "kelpie                     0.349231\n",
       "Welsh_springer_spaniel     0.352500\n",
       "Dandie_Dinmont             0.367143\n",
       "Brabancon_griffon          0.370000\n",
       "Newfoundland               0.370000\n",
       "Name: prediction, dtype: float64"
      ]
     },
     "execution_count": 97,
     "metadata": {},
     "output_type": "execute_result"
    }
   ],
   "source": [
    "#getting breeds that were most leastly predicted\n",
    "\n",
    "w = final.groupby('dog_breed')['prediction'].mean().nsmallest(20)\n",
    "\n",
    "w"
   ]
  },
  {
   "cell_type": "code",
   "execution_count": 98,
   "id": "c34238b4",
   "metadata": {
    "scrolled": true
   },
   "outputs": [
    {
     "data": {
      "image/png": "[encoded data removed]",
      "text/plain": [
       "<Figure size 936x432 with 1 Axes>"
      ]
     },
     "metadata": {
      "needs_background": "light"
     },
     "output_type": "display_data"
    }
   ],
   "source": [
    "plt.figure(figsize=(13,6))\n",
    "w.plot(kind='bar');\n",
    "plt.ylabel('Scores')\n",
    "plt.xlabel('Dog Breeds')\n",
    "plt.title('Dog Breeds That Are Not Easily Recognized')\n",
    "\n",
    "plt.show()"
   ]
  },
  {
   "cell_type": "code",
   "execution_count": 99,
   "id": "913b7864",
   "metadata": {},
   "outputs": [
    {
     "data": {
      "text/plain": [
       "None       622\n",
       "Charlie     11\n",
       "Cooper      10\n",
       "Lucy        10\n",
       "Oliver      10\n",
       "Tucker       9\n",
       "Penny        9\n",
       "Winston      8\n",
       "Sadie        8\n",
       "Daisy        7\n",
       "Name: name, dtype: int64"
      ]
     },
     "execution_count": 99,
     "metadata": {},
     "output_type": "execute_result"
    }
   ],
   "source": [
    "final['name'].value_counts().nlargest(10)"
   ]
  },
  {
   "cell_type": "code",
   "execution_count": 100,
   "id": "2479d834",
   "metadata": {},
   "outputs": [
    {
     "data": {
      "image/png": "[encoded data removed]",
      "text/plain": [
       "<Figure size 1080x576 with 2 Axes>"
      ]
     },
     "metadata": {
      "needs_background": "light"
     },
     "output_type": "display_data"
    }
   ],
   "source": [
    "#heatmap to try and find out the what properties to investigate\n",
    "plt.figure(figsize=(15, 8))\n",
    "sns.heatmap(final.corr(), annot=True);\n",
    "plt.show()"
   ]
  },
  {
   "cell_type": "code",
   "execution_count": 101,
   "id": "e336104f",
   "metadata": {},
   "outputs": [
    {
     "data": {
      "text/plain": [
       "dog_age\n",
       "pupper      6471.191388\n",
       "None        7288.661871\n",
       "floofer    11626.125000\n",
       "doggo      17248.269841\n",
       "puppo      20467.521739\n",
       "Name: likes, dtype: float64"
      ]
     },
     "execution_count": 101,
     "metadata": {},
     "output_type": "execute_result"
    }
   ],
   "source": [
    "final.groupby('dog_age')['likes'].mean().nsmallest(20)"
   ]
  },
  {
   "cell_type": "code",
   "execution_count": 102,
   "id": "4cd3cf1b",
   "metadata": {},
   "outputs": [
    {
     "data": {
      "text/plain": [
       "dog_age\n",
       "pupper     10.650718\n",
       "None       11.767986\n",
       "floofer    11.875000\n",
       "doggo      11.888889\n",
       "puppo      12.043478\n",
       "Name: dog_score, dtype: float64"
      ]
     },
     "execution_count": 102,
     "metadata": {},
     "output_type": "execute_result"
    }
   ],
   "source": [
    "final.groupby('dog_age')['dog_score'].mean().nsmallest(20)"
   ]
  },
  {
   "cell_type": "code",
   "execution_count": 103,
   "id": "c6b4e929",
   "metadata": {},
   "outputs": [
    {
     "data": {
      "text/plain": [
       "dog_age\n",
       "pupper     1983.339713\n",
       "None       2075.837530\n",
       "floofer    3811.000000\n",
       "puppo      5768.478261\n",
       "doggo      5847.809524\n",
       "Name: no_of_retweets, dtype: float64"
      ]
     },
     "execution_count": 103,
     "metadata": {},
     "output_type": "execute_result"
    }
   ],
   "source": [
    "final.groupby('dog_age')['no_of_retweets'].mean().nsmallest(20)"
   ]
  },
  {
   "cell_type": "markdown",
   "id": "12832fa4",
   "metadata": {},
   "source": [
    "### Conclusion\n",
    "\n",
    "- Bedlington_terrier is the most liked dog breed based on the mean count of likes. \n",
    "- Bouvier_des_Flandres has the highest mean dog_score of 13.\n",
    "- The Standard poodle is the dog breed that is most retweeted.\n",
    "- Most tweets came from iphones.\n",
    "- The Komondor is the dog breed that is easily recognized by AI.\n",
    "- The Irish Wolfhound is not easily recognized by AI.\n",
    "- Oliver, Penny, Coper, Tucker and Charlie are the most commo dog names from our data.\n",
    "- Positive relationship between number of retweets and likes.\n",
    "- Positive relationship between dog score and likes.\n",
    "- Puppers are generally most liked, retweeted about and have higher scores.\n",
    "\n",
    "Overall, the gold retriever is the most loved dog breed. The dog breeds are important in determimg scores and retweets and so they will be important in actually picking what type of dogs to get.\n",
    "\n",
    "### Limitations\n",
    "\n",
    "- The data had too many issues (quality and tidyness).\n",
    "- The data was too small to make predictions and draw better conclusions"
   ]
  },
  {
   "cell_type": "markdown",
   "id": "578516a4",
   "metadata": {},
   "source": [
    "### Sources\n",
    "- https://stackoverflow.com/questions\n",
    "- https://github.com/paulstancliffe/Udacity-WeRateDogs-Project/blob/master/wrangle_act.ipynb\n",
    "- https://nocodewebscraping.com/twitter-json-examples/\n",
    "- Udacity wrangle and analyze data\n",
    "- www.google.com\n",
    "- pandas documentation\n",
    "- https://towardsdatascience.com/data-analysis-project-weratedogs-16aad3f6c8c2"
   ]
  },
  {
   "cell_type": "code",
   "execution_count": null,
   "id": "595d6486",
   "metadata": {},
   "outputs": [],
   "source": []
  }
 ],
 "metadata": {
  "kernelspec": {
   "display_name": "Python 3 (ipykernel)",
   "language": "python",
   "name": "python3"
  },
  "language_info": {
   "codemirror_mode": {
    "name": "ipython",
    "version": 3
   },
   "file_extension": ".py",
   "mimetype": "text/x-python",
   "name": "python",
   "nbconvert_exporter": "python",
   "pygments_lexer": "ipython3",
   "version": "3.10.2"
  }
 },
 "nbformat": 4,
 "nbformat_minor": 5
}
